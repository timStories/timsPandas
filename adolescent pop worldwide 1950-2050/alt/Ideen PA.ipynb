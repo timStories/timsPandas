{
 "cells": [
  {
   "cell_type": "markdown",
   "id": "9d898072-8534-4fbe-ad4f-10c85d5deda6",
   "metadata": {},
   "source": [
    "# Fragen für Analyse\n",
    "\n",
    "wie viele junge Menschen (10-19 Jahren) haben große (>5 mio einwohner) high income länder?\n",
    "\n",
    "wie entwickelt sich das ganze von jahr zu jahr?"
   ]
  },
  {
   "cell_type": "markdown",
   "id": "d1650cd1-3d88-42b4-af37-637809f91fbe",
   "metadata": {},
   "source": [
    "# charts\n",
    "\n",
    "bubble chart oder bubble map. sunburst chart?\n",
    "\n",
    "tortendiagramme für die einzelnen kontinente\n",
    "\n",
    "change abbilden\n",
    "\n",
    "income groups ggeinander vergleichen -> sunburst chart??"
   ]
  },
  {
   "cell_type": "raw",
   "id": "c7f82605-cf8b-448e-964a-2c443e52cd1b",
   "metadata": {},
   "source": [
    "ninas präse\n",
    "\n",
    "datenquellen\n",
    "table of contents\n",
    "projektbeschreibung\n",
    "    reihen\n",
    "projektziele\n",
    "    Ziel 1: Einlesen der Daten\n",
    "    Ziel 2: Descriptive Analyse\n",
    "        data.describe\n",
    "        data.duplicated\n",
    "    Ziel 3: Bereinigung der Daten\n",
    "    Ziel 4: Explorative Analyse\n",
    "    Untersuchung von Use Cases wie:\n",
    "        Welchen Anteil haben die einzelnen Betriebssysteme an der Gesamtzahl der untersuchten Nutzer?\n",
    "            -> pie plot\n",
    "        Welchen Anteil haben die einzelnen Device Models an der Gesamtzahl der untersuchten Nutzer?\n",
    "            -> pie plot\n",
    "    Pair Plot Erstellung\n",
    "        Zur Untersuchung von Abhängigkeiten zwischen Spalten\n",
    "    Violin Plot\n",
    "        User Behavior Class weil das fundamental ist\n",
    "    Ziel 5: Dash Board"
   ]
  },
  {
   "cell_type": "code",
   "execution_count": null,
   "id": "1123af8b-d231-4b4f-a9e7-c44fcace077d",
   "metadata": {},
   "outputs": [],
   "source": [
    "# Create pair plot\n",
    "sns.pairplot(data=data, hue=\"Operating System\")\n",
    "\n",
    "# Show plot\n",
    "plt.show()"
   ]
  },
  {
   "cell_type": "raw",
   "id": "ed9eb16c-a556-41cb-9b1c-204dd208cbef",
   "metadata": {},
   "source": []
  }
 ],
 "metadata": {
  "kernelspec": {
   "display_name": "Python 3 (ipykernel)",
   "language": "python",
   "name": "python3"
  },
  "language_info": {
   "codemirror_mode": {
    "name": "ipython",
    "version": 3
   },
   "file_extension": ".py",
   "mimetype": "text/x-python",
   "name": "python",
   "nbconvert_exporter": "python",
   "pygments_lexer": "ipython3",
   "version": "3.12.5"
  }
 },
 "nbformat": 4,
 "nbformat_minor": 5
}
