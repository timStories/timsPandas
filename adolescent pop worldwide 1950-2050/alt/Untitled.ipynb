{
 "cells": [
  {
   "cell_type": "raw",
   "id": "a1958d8e-2677-4ccf-b6f2-a1041d1f723e",
   "metadata": {},
   "source": [
    "Wer ist die Zielgruppe des Dashboards?\n",
    "\n",
    "Für wen baue ich das Dashboard, und was wissen diese Personen bereits über das Thema?\n",
    "Welche Kernfragen oder Probleme soll das Dashboard beantworten?\n",
    "\n",
    "Welche Entscheidungen sollen die Benutzer auf Grundlage des Dashboards treffen können?\n",
    "Welche KPIs (Key Performance Indicators) oder Metriken sind relevant?\n",
    "\n",
    "Welche Kennzahlen sind entscheidend, um den Erfolg oder Fortschritt zu messen?\n",
    "Welche Datenquellen stehen zur Verfügung?\n",
    "\n",
    "Sind die Daten vollständig, aktuell und qualitativ hochwertig genug, um die gewünschten Einblicke zu liefern?\n",
    "Wie werden die Daten visualisiert?\n",
    "\n",
    "Welche Visualisierungen sind am besten geeignet (z. B. Balkendiagramme, Zeitreihengrafiken, Heatmaps)?\n",
    "Welche Zeitdimensionen sind relevant?\n",
    "\n",
    "Soll das Dashboard historische, aktuelle oder zukünftige Daten (Forecasting) zeigen?\n",
    "Welche Interaktivität wird benötigt?\n",
    "\n",
    "Soll das Dashboard Filter, Drilldowns oder andere interaktive Funktionen bieten?\n",
    "Wie häufig wird das Dashboard genutzt und aktualisiert?\n",
    "\n",
    "Wird das Dashboard in Echtzeit, täglich, wöchentlich oder monatlich aktualisiert?\n",
    "Wie wird das Dashboard zugänglich gemacht?\n",
    "\n",
    "Wird es in einer bestimmten Software wie Tableau, Power BI oder einem Web-Dashboard entwickelt?\n",
    "Welche Erfolgskennzahlen gelten für das Dashboard selbst?\n",
    "\n",
    "Wie messe ich, ob das Dashboard seine Ziele erreicht (z. B. Nutzungshäufigkeit, Zufriedenheit der Nutzer)?"
   ]
  }
 ],
 "metadata": {
  "kernelspec": {
   "display_name": "Python 3 (ipykernel)",
   "language": "python",
   "name": "python3"
  },
  "language_info": {
   "codemirror_mode": {
    "name": "ipython",
    "version": 3
   },
   "file_extension": ".py",
   "mimetype": "text/x-python",
   "name": "python",
   "nbconvert_exporter": "python",
   "pygments_lexer": "ipython3",
   "version": "3.12.5"
  }
 },
 "nbformat": 4,
 "nbformat_minor": 5
}
