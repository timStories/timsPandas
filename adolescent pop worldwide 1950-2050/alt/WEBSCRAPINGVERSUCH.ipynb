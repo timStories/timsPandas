{
 "cells": [
  {
   "cell_type": "code",
   "execution_count": 2,
   "id": "081210bd-a5c9-4ee8-a2b2-e909a73c16ef",
   "metadata": {},
   "outputs": [
    {
     "ename": "NameError",
     "evalue": "name 'urllib' is not defined",
     "output_type": "error",
     "traceback": [
      "\u001b[1;31m---------------------------------------------------------------------------\u001b[0m",
      "\u001b[1;31mNameError\u001b[0m                                 Traceback (most recent call last)",
      "Cell \u001b[1;32mIn[2], line 6\u001b[0m\n\u001b[0;32m      2\u001b[0m search_params \u001b[38;5;241m=\u001b[39m {\n\u001b[0;32m      3\u001b[0m     \u001b[38;5;124m\"\u001b[39m\u001b[38;5;124mq\u001b[39m\u001b[38;5;124m\"\u001b[39m: city_name\n\u001b[0;32m      4\u001b[0m }\n\u001b[0;32m      5\u001b[0m base_url \u001b[38;5;241m=\u001b[39m \u001b[38;5;124m\"\u001b[39m\u001b[38;5;124mhttps://www.booking.com/search/index.html?\u001b[39m\u001b[38;5;124m\"\u001b[39m\n\u001b[1;32m----> 6\u001b[0m search_url \u001b[38;5;241m=\u001b[39m base_url \u001b[38;5;241m+\u001b[39m \u001b[43murllib\u001b[49m\u001b[38;5;241m.\u001b[39mparse\u001b[38;5;241m.\u001b[39murlencode(search_params)\n\u001b[0;32m      8\u001b[0m \u001b[38;5;28;01mimport\u001b[39;00m \u001b[38;5;21;01mrequests\u001b[39;00m\n\u001b[0;32m     10\u001b[0m headers \u001b[38;5;241m=\u001b[39m {\n\u001b[0;32m     11\u001b[0m     \u001b[38;5;124m\"\u001b[39m\u001b[38;5;124mUser-Agent\u001b[39m\u001b[38;5;124m\"\u001b[39m: \u001b[38;5;124m\"\u001b[39m\u001b[38;5;124mMozilla/5.0 (Windows NT 10.0; Win64; x64) AppleWebKit/537.36 (KHTML, like Gecko) Chrome/107.0.0.0 Safari/537.36\u001b[39m\u001b[38;5;124m\"\u001b[39m\n\u001b[0;32m     12\u001b[0m }\n",
      "\u001b[1;31mNameError\u001b[0m: name 'urllib' is not defined"
     ]
    }
   ],
   "source": [
    "import requests\n",
    "\n",
    "search_url = https://www.booking.com/searchresults.html?label=gen173nr-1FCBkoggI46AdIM1gEaDuIAQGYATG4ARfIAQ_YAQHoAQH4AQKIAgGoAgO4AumvhrsGwAIB0gIkOTE1MmUwODMtMmVmYi00YmE1LTg2NzEtNDIxYjlhMDdjMjAy2AIF4AIB&sid=de90663e8b6daedd7cabc5902b085bf1&sb=1&src=error404&src_elem=sb&error_url=https%3A%2F%2Fwww.booking.com%2Ferror404.html%3Flabel%3Dgen173nr-1FCBkoggI46AdIM1gEaDuIAQGYATG4ARfIAQ_YAQHoAQH4AQKIAgGoAgO4AumvhrsGwAIB0gIkOTE1MmUwODMtMmVmYi00YmE1LTg2NzEtNDIxYjlhMDdjMjAy2AIF4AIB%26sid%3Dde90663e8b6daedd7cabc5902b085bf1&ss=Tashkent%2C+Uzbekistan&is_ski_area=0&checkin_year=&checkin_month=&checkout_year=&checkout_month=&group_adults=2&group_children=0&b_h4u_keep_filters=&from_sf=1&ss_raw=tashkenz&ac_position=0&ac_langcode=en&ac_click_type=b&ac_meta=GhAwMGE1NmM3OWJhOGQwMWVhIAAoATICZW46CHRhc2hrZW56QAFKCHRhc2hrZW50UKg%2B&_t=CAAAAIB7ImZmIjoxfQ&dest_id=-2579372&dest_type=city&iata=TAS&place_id_lat=41.3167&place_id_lon=69.25&search_pageview_id=45046c7425890661&search_selected=true\n",
    "\n",
    "headers = {\n",
    "    \"User-Agent\": \"Mozilla/5.0 (Windows NT 10.0; Win64; x64) AppleWebKit/537.36 (KHTML, like Gecko) Chrome/107.0.0.0 Safari/537.36\"\n",
    "}\n",
    "\n",
    "response = requests.get(search_url, headers=headers)\n",
    "\n",
    "if response.status_code != 200:\n",
    "    print(f\"Error: Failed to retrieve website content. Status code: {response.status_code}\")\n",
    "    exit()"
   ]
  },
  {
   "cell_type": "code",
   "execution_count": null,
   "id": "3f53b31e-1584-4678-bf28-f6d5c9ba1dc5",
   "metadata": {},
   "outputs": [],
   "source": []
  }
 ],
 "metadata": {
  "kernelspec": {
   "display_name": "Python 3 (ipykernel)",
   "language": "python",
   "name": "python3"
  },
  "language_info": {
   "codemirror_mode": {
    "name": "ipython",
    "version": 3
   },
   "file_extension": ".py",
   "mimetype": "text/x-python",
   "name": "python",
   "nbconvert_exporter": "python",
   "pygments_lexer": "ipython3",
   "version": "3.12.5"
  }
 },
 "nbformat": 4,
 "nbformat_minor": 5
}
