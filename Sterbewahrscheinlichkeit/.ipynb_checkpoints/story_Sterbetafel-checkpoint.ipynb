{
 "cells": [
  {
   "cell_type": "markdown",
   "id": "f7cf20ba-b8bd-42a5-b4d2-69b233c5a584",
   "metadata": {},
   "source": [
    "# Sterbetafel 2023 DE visualisiert"
   ]
  },
  {
   "cell_type": "markdown",
   "id": "ccd93f23-2b26-48a1-a7cd-d29f4bd40d99",
   "metadata": {},
   "source": [
    "# Datensatz\n",
    "## Änderungen\n",
    "\n",
    "Der Datensatz wurde von hier runtergeladen: https://www-genesis.destatis.de/datenbank/online/statistic/12621/table/12621-0001\n",
    "Überschrift: Sterbetafel (Periodensterbetafel): Deutschland, Jahre, Geschlecht, Vollendetes Alter\n",
    "\n",
    "Der Datensatz wurde nochmal überarbeitet. \n",
    "\n",
    "Rohdaten: <img src=\"fotos/Screenshot_alter_datensatz.png\"></img>\n",
    "\n",
    "So wurden überflüssige Spalten und Zeilen gelöscht. Die Kopfzeilen wurden zusammengefasst. Die Kommazahlen wurden gemäß englischem Format in Punkte umgewandelt. Die Jahresangaben wurden in floats abgeändert. Die Trennung der Daten wurden durch Kommata ersetzt.\n",
    "\n",
    "Überarbeitet: <img src=\"fotos/Screenshot_neuer_datensatz.png\"></img>\n",
    "\n",
    "-> Ein sehr überschaubarer Datensatz. 101 Zeilen, 15 Spalten. Reiner Visualisierungsspielplatz mit makabren Zahlen."
   ]
  },
  {
   "cell_type": "markdown",
   "id": "67166a28-1e0d-429b-a764-852334d082b3",
   "metadata": {},
   "source": [
    "## Importe"
   ]
  },
  {
   "cell_type": "code",
   "execution_count": 11,
   "id": "3e9558a4-c8a3-4ffb-951f-8aeffd594154",
   "metadata": {},
   "outputs": [],
   "source": [
    "#import libraries\n",
    "import numpy as np\n",
    "import pandas as pd\n",
    "from summarytools import dfSummary"
   ]
  },
  {
   "cell_type": "markdown",
   "id": "30fdd710-3015-48fb-9f3e-0b33c325cfa5",
   "metadata": {},
   "source": [
    "## ~Deskriptive Datenanalyse"
   ]
  },
  {
   "cell_type": "code",
   "execution_count": 12,
   "id": "91d528e1-4760-4e83-909f-cb2572a2e815",
   "metadata": {},
   "outputs": [
    {
     "data": {
      "text/html": [
       "<div>\n",
       "<style scoped>\n",
       "    .dataframe tbody tr th:only-of-type {\n",
       "        vertical-align: middle;\n",
       "    }\n",
       "\n",
       "    .dataframe tbody tr th {\n",
       "        vertical-align: top;\n",
       "    }\n",
       "\n",
       "    .dataframe thead th {\n",
       "        text-align: right;\n",
       "    }\n",
       "</style>\n",
       "<table border=\"1\" class=\"dataframe\">\n",
       "  <thead>\n",
       "    <tr style=\"text-align: right;\">\n",
       "      <th></th>\n",
       "      <th>Alter in Jahre</th>\n",
       "      <th>Sterbewahrscheinlichkeit [q(x)] männlich Ziffer</th>\n",
       "      <th>Überlebenswahrscheinlichkeit [p(x)] männlich Ziffer</th>\n",
       "      <th>Überlebende [l(x)] männlich Anzahl</th>\n",
       "      <th>Gestorbene [d(x)] männlich Anzahl</th>\n",
       "      <th>Bis zum Alter x+1 durchlebte Jahre [L(x)] männlich Jahre</th>\n",
       "      <th>Insgesamt noch zu durchlebende Jahre [T(x)] männlich Jahre</th>\n",
       "      <th>Durchschnittliche Lebenserwartung [e(x)] männlich Jahre</th>\n",
       "      <th>Sterbewahrscheinlichkeit [q(x)] weiblich Ziffer</th>\n",
       "      <th>Überlebenswahrscheinlichkeit [p(x)] weiblich Ziffer</th>\n",
       "      <th>Überlebende [l(x)] weiblich Anzahl</th>\n",
       "      <th>Gestorbene [d(x)] weiblich Anzahl</th>\n",
       "      <th>Bis zum Alter x+1 durchlebte Jahre [L(x)] weiblich Jahre</th>\n",
       "      <th>Insgesamt noch zu durchlebende Jahre [T(x)] weiblich Jahre</th>\n",
       "      <th>Durchschnittliche Lebenserwartung [e(x)] weiblich Jahre</th>\n",
       "    </tr>\n",
       "  </thead>\n",
       "  <tbody>\n",
       "    <tr>\n",
       "      <th>0</th>\n",
       "      <td>0</td>\n",
       "      <td>0.003253</td>\n",
       "      <td>0.996747</td>\n",
       "      <td>100000</td>\n",
       "      <td>325</td>\n",
       "      <td>99707</td>\n",
       "      <td>7816643</td>\n",
       "      <td>78.17</td>\n",
       "      <td>0.002890</td>\n",
       "      <td>0.997110</td>\n",
       "      <td>100000</td>\n",
       "      <td>289</td>\n",
       "      <td>99743</td>\n",
       "      <td>8299434</td>\n",
       "      <td>82.99</td>\n",
       "    </tr>\n",
       "    <tr>\n",
       "      <th>1</th>\n",
       "      <td>1</td>\n",
       "      <td>0.000253</td>\n",
       "      <td>0.999746</td>\n",
       "      <td>99675</td>\n",
       "      <td>25</td>\n",
       "      <td>99662</td>\n",
       "      <td>7716936</td>\n",
       "      <td>77.42</td>\n",
       "      <td>0.000209</td>\n",
       "      <td>0.999791</td>\n",
       "      <td>99711</td>\n",
       "      <td>21</td>\n",
       "      <td>99701</td>\n",
       "      <td>8199691</td>\n",
       "      <td>82.23</td>\n",
       "    </tr>\n",
       "    <tr>\n",
       "      <th>2</th>\n",
       "      <td>2</td>\n",
       "      <td>0.000181</td>\n",
       "      <td>0.999819</td>\n",
       "      <td>99649</td>\n",
       "      <td>18</td>\n",
       "      <td>99640</td>\n",
       "      <td>7617274</td>\n",
       "      <td>76.44</td>\n",
       "      <td>0.000153</td>\n",
       "      <td>0.999846</td>\n",
       "      <td>99690</td>\n",
       "      <td>15</td>\n",
       "      <td>99683</td>\n",
       "      <td>8099990</td>\n",
       "      <td>81.25</td>\n",
       "    </tr>\n",
       "    <tr>\n",
       "      <th>3</th>\n",
       "      <td>3</td>\n",
       "      <td>0.000141</td>\n",
       "      <td>0.999859</td>\n",
       "      <td>99631</td>\n",
       "      <td>14</td>\n",
       "      <td>99624</td>\n",
       "      <td>7517634</td>\n",
       "      <td>75.45</td>\n",
       "      <td>0.000119</td>\n",
       "      <td>0.999881</td>\n",
       "      <td>99675</td>\n",
       "      <td>12</td>\n",
       "      <td>99669</td>\n",
       "      <td>8000308</td>\n",
       "      <td>80.26</td>\n",
       "    </tr>\n",
       "    <tr>\n",
       "      <th>4</th>\n",
       "      <td>4</td>\n",
       "      <td>0.000118</td>\n",
       "      <td>0.999882</td>\n",
       "      <td>99617</td>\n",
       "      <td>12</td>\n",
       "      <td>99611</td>\n",
       "      <td>7418009</td>\n",
       "      <td>74.47</td>\n",
       "      <td>0.000097</td>\n",
       "      <td>0.999903</td>\n",
       "      <td>99663</td>\n",
       "      <td>10</td>\n",
       "      <td>99658</td>\n",
       "      <td>7900639</td>\n",
       "      <td>79.27</td>\n",
       "    </tr>\n",
       "    <tr>\n",
       "      <th>...</th>\n",
       "      <td>...</td>\n",
       "      <td>...</td>\n",
       "      <td>...</td>\n",
       "      <td>...</td>\n",
       "      <td>...</td>\n",
       "      <td>...</td>\n",
       "      <td>...</td>\n",
       "      <td>...</td>\n",
       "      <td>...</td>\n",
       "      <td>...</td>\n",
       "      <td>...</td>\n",
       "      <td>...</td>\n",
       "      <td>...</td>\n",
       "      <td>...</td>\n",
       "      <td>...</td>\n",
       "    </tr>\n",
       "    <tr>\n",
       "      <th>96</th>\n",
       "      <td>96</td>\n",
       "      <td>0.335826</td>\n",
       "      <td>0.664174</td>\n",
       "      <td>3042</td>\n",
       "      <td>1022</td>\n",
       "      <td>2532</td>\n",
       "      <td>6668</td>\n",
       "      <td>2.19</td>\n",
       "      <td>0.287124</td>\n",
       "      <td>0.712876</td>\n",
       "      <td>7886</td>\n",
       "      <td>2264</td>\n",
       "      <td>6754</td>\n",
       "      <td>19917</td>\n",
       "      <td>2.53</td>\n",
       "    </tr>\n",
       "    <tr>\n",
       "      <th>97</th>\n",
       "      <td>97</td>\n",
       "      <td>0.360297</td>\n",
       "      <td>0.639703</td>\n",
       "      <td>2021</td>\n",
       "      <td>728</td>\n",
       "      <td>1657</td>\n",
       "      <td>4137</td>\n",
       "      <td>2.05</td>\n",
       "      <td>0.312156</td>\n",
       "      <td>0.687844</td>\n",
       "      <td>5622</td>\n",
       "      <td>1755</td>\n",
       "      <td>4744</td>\n",
       "      <td>13163</td>\n",
       "      <td>2.34</td>\n",
       "    </tr>\n",
       "    <tr>\n",
       "      <th>98</th>\n",
       "      <td>98</td>\n",
       "      <td>0.384674</td>\n",
       "      <td>0.615326</td>\n",
       "      <td>1293</td>\n",
       "      <td>497</td>\n",
       "      <td>1044</td>\n",
       "      <td>2480</td>\n",
       "      <td>1.92</td>\n",
       "      <td>0.337911</td>\n",
       "      <td>0.662089</td>\n",
       "      <td>3867</td>\n",
       "      <td>1307</td>\n",
       "      <td>3214</td>\n",
       "      <td>8419</td>\n",
       "      <td>2.18</td>\n",
       "    </tr>\n",
       "    <tr>\n",
       "      <th>99</th>\n",
       "      <td>99</td>\n",
       "      <td>0.408936</td>\n",
       "      <td>0.591064</td>\n",
       "      <td>795</td>\n",
       "      <td>325</td>\n",
       "      <td>633</td>\n",
       "      <td>1436</td>\n",
       "      <td>1.81</td>\n",
       "      <td>0.364503</td>\n",
       "      <td>0.635497</td>\n",
       "      <td>2560</td>\n",
       "      <td>933</td>\n",
       "      <td>2094</td>\n",
       "      <td>5206</td>\n",
       "      <td>2.03</td>\n",
       "    </tr>\n",
       "    <tr>\n",
       "      <th>100</th>\n",
       "      <td>100</td>\n",
       "      <td>0.432800</td>\n",
       "      <td>0.567200</td>\n",
       "      <td>470</td>\n",
       "      <td>203</td>\n",
       "      <td>368</td>\n",
       "      <td>803</td>\n",
       "      <td>1.71</td>\n",
       "      <td>0.385673</td>\n",
       "      <td>0.614327</td>\n",
       "      <td>1627</td>\n",
       "      <td>627</td>\n",
       "      <td>1313</td>\n",
       "      <td>3112</td>\n",
       "      <td>1.91</td>\n",
       "    </tr>\n",
       "  </tbody>\n",
       "</table>\n",
       "<p>101 rows × 15 columns</p>\n",
       "</div>"
      ],
      "text/plain": [
       "     Alter in Jahre  Sterbewahrscheinlichkeit [q(x)] männlich Ziffer  \\\n",
       "0                 0                                         0.003253   \n",
       "1                 1                                         0.000253   \n",
       "2                 2                                         0.000181   \n",
       "3                 3                                         0.000141   \n",
       "4                 4                                         0.000118   \n",
       "..              ...                                              ...   \n",
       "96               96                                         0.335826   \n",
       "97               97                                         0.360297   \n",
       "98               98                                         0.384674   \n",
       "99               99                                         0.408936   \n",
       "100             100                                         0.432800   \n",
       "\n",
       "     Überlebenswahrscheinlichkeit [p(x)] männlich Ziffer  \\\n",
       "0                                             0.996747     \n",
       "1                                             0.999746     \n",
       "2                                             0.999819     \n",
       "3                                             0.999859     \n",
       "4                                             0.999882     \n",
       "..                                                 ...     \n",
       "96                                            0.664174     \n",
       "97                                            0.639703     \n",
       "98                                            0.615326     \n",
       "99                                            0.591064     \n",
       "100                                           0.567200     \n",
       "\n",
       "     Überlebende [l(x)] männlich Anzahl  Gestorbene [d(x)] männlich Anzahl  \\\n",
       "0                                100000                                325   \n",
       "1                                 99675                                 25   \n",
       "2                                 99649                                 18   \n",
       "3                                 99631                                 14   \n",
       "4                                 99617                                 12   \n",
       "..                                  ...                                ...   \n",
       "96                                 3042                               1022   \n",
       "97                                 2021                                728   \n",
       "98                                 1293                                497   \n",
       "99                                  795                                325   \n",
       "100                                 470                                203   \n",
       "\n",
       "     Bis zum Alter x+1 durchlebte Jahre [L(x)] männlich Jahre  \\\n",
       "0                                                99707          \n",
       "1                                                99662          \n",
       "2                                                99640          \n",
       "3                                                99624          \n",
       "4                                                99611          \n",
       "..                                                 ...          \n",
       "96                                                2532          \n",
       "97                                                1657          \n",
       "98                                                1044          \n",
       "99                                                 633          \n",
       "100                                                368          \n",
       "\n",
       "     Insgesamt noch zu durchlebende Jahre [T(x)] männlich Jahre  \\\n",
       "0                                              7816643            \n",
       "1                                              7716936            \n",
       "2                                              7617274            \n",
       "3                                              7517634            \n",
       "4                                              7418009            \n",
       "..                                                 ...            \n",
       "96                                                6668            \n",
       "97                                                4137            \n",
       "98                                                2480            \n",
       "99                                                1436            \n",
       "100                                                803            \n",
       "\n",
       "     Durchschnittliche Lebenserwartung [e(x)] männlich Jahre  \\\n",
       "0                                                78.17         \n",
       "1                                                77.42         \n",
       "2                                                76.44         \n",
       "3                                                75.45         \n",
       "4                                                74.47         \n",
       "..                                                 ...         \n",
       "96                                                2.19         \n",
       "97                                                2.05         \n",
       "98                                                1.92         \n",
       "99                                                1.81         \n",
       "100                                               1.71         \n",
       "\n",
       "     Sterbewahrscheinlichkeit [q(x)] weiblich Ziffer  \\\n",
       "0                                           0.002890   \n",
       "1                                           0.000209   \n",
       "2                                           0.000153   \n",
       "3                                           0.000119   \n",
       "4                                           0.000097   \n",
       "..                                               ...   \n",
       "96                                          0.287124   \n",
       "97                                          0.312156   \n",
       "98                                          0.337911   \n",
       "99                                          0.364503   \n",
       "100                                         0.385673   \n",
       "\n",
       "     Überlebenswahrscheinlichkeit [p(x)] weiblich Ziffer  \\\n",
       "0                                             0.997110     \n",
       "1                                             0.999791     \n",
       "2                                             0.999846     \n",
       "3                                             0.999881     \n",
       "4                                             0.999903     \n",
       "..                                                 ...     \n",
       "96                                            0.712876     \n",
       "97                                            0.687844     \n",
       "98                                            0.662089     \n",
       "99                                            0.635497     \n",
       "100                                           0.614327     \n",
       "\n",
       "     Überlebende [l(x)] weiblich Anzahl  Gestorbene [d(x)] weiblich Anzahl  \\\n",
       "0                                100000                                289   \n",
       "1                                 99711                                 21   \n",
       "2                                 99690                                 15   \n",
       "3                                 99675                                 12   \n",
       "4                                 99663                                 10   \n",
       "..                                  ...                                ...   \n",
       "96                                 7886                               2264   \n",
       "97                                 5622                               1755   \n",
       "98                                 3867                               1307   \n",
       "99                                 2560                                933   \n",
       "100                                1627                                627   \n",
       "\n",
       "     Bis zum Alter x+1 durchlebte Jahre [L(x)] weiblich Jahre  \\\n",
       "0                                                99743          \n",
       "1                                                99701          \n",
       "2                                                99683          \n",
       "3                                                99669          \n",
       "4                                                99658          \n",
       "..                                                 ...          \n",
       "96                                                6754          \n",
       "97                                                4744          \n",
       "98                                                3214          \n",
       "99                                                2094          \n",
       "100                                               1313          \n",
       "\n",
       "     Insgesamt noch zu durchlebende Jahre [T(x)] weiblich Jahre  \\\n",
       "0                                              8299434            \n",
       "1                                              8199691            \n",
       "2                                              8099990            \n",
       "3                                              8000308            \n",
       "4                                              7900639            \n",
       "..                                                 ...            \n",
       "96                                               19917            \n",
       "97                                               13163            \n",
       "98                                                8419            \n",
       "99                                                5206            \n",
       "100                                               3112            \n",
       "\n",
       "     Durchschnittliche Lebenserwartung [e(x)] weiblich Jahre  \n",
       "0                                                82.99        \n",
       "1                                                82.23        \n",
       "2                                                81.25        \n",
       "3                                                80.26        \n",
       "4                                                79.27        \n",
       "..                                                 ...        \n",
       "96                                                2.53        \n",
       "97                                                2.34        \n",
       "98                                                2.18        \n",
       "99                                                2.03        \n",
       "100                                               1.91        \n",
       "\n",
       "[101 rows x 15 columns]"
      ]
     },
     "execution_count": 12,
     "metadata": {},
     "output_type": "execute_result"
    }
   ],
   "source": [
    "#load the data\n",
    "df = pd.read_csv('./Sterbetafel_Daten.csv')\n",
    "df"
   ]
  },
  {
   "cell_type": "code",
   "execution_count": 10,
   "id": "e5b337be-2c72-4b08-b1f5-0942b4295ac1",
   "metadata": {},
   "outputs": [
    {
     "name": "stdout",
     "output_type": "stream",
     "text": [
      "<class 'pandas.core.frame.DataFrame'>\n",
      "RangeIndex: 101 entries, 0 to 100\n",
      "Data columns (total 15 columns):\n",
      " #   Column                                                      Non-Null Count  Dtype  \n",
      "---  ------                                                      --------------  -----  \n",
      " 0   Alter in Jahre                                              101 non-null    int64  \n",
      " 1   Sterbewahrscheinlichkeit [q(x)] männlich Ziffer             101 non-null    float64\n",
      " 2   Überlebenswahrscheinlichkeit [p(x)] männlich Ziffer         101 non-null    float64\n",
      " 3   Überlebende [l(x)] männlich Anzahl                          101 non-null    int64  \n",
      " 4   Gestorbene [d(x)] männlich Anzahl                           101 non-null    int64  \n",
      " 5   Bis zum Alter x+1 durchlebte Jahre [L(x)] männlich Jahre    101 non-null    int64  \n",
      " 6   Insgesamt noch zu durchlebende Jahre [T(x)] männlich Jahre  101 non-null    int64  \n",
      " 7   Durchschnittliche Lebenserwartung [e(x)] männlich Jahre     101 non-null    float64\n",
      " 8   Sterbewahrscheinlichkeit [q(x)] weiblich Ziffer             101 non-null    float64\n",
      " 9   Überlebenswahrscheinlichkeit [p(x)] weiblich Ziffer         101 non-null    float64\n",
      " 10  Überlebende [l(x)] weiblich Anzahl                          101 non-null    int64  \n",
      " 11  Gestorbene [d(x)] weiblich Anzahl                           101 non-null    int64  \n",
      " 12  Bis zum Alter x+1 durchlebte Jahre [L(x)] weiblich Jahre    101 non-null    int64  \n",
      " 13  Insgesamt noch zu durchlebende Jahre [T(x)] weiblich Jahre  101 non-null    int64  \n",
      " 14  Durchschnittliche Lebenserwartung [e(x)] weiblich Jahre     101 non-null    float64\n",
      "dtypes: float64(6), int64(9)\n",
      "memory usage: 12.0 KB\n"
     ]
    }
   ],
   "source": [
    "df.info()"
   ]
  },
  {
   "cell_type": "code",
   "execution_count": 13,
   "id": "f58553ce-5db5-4208-bbe7-62a1cd05d77b",
   "metadata": {},
   "outputs": [
    {
     "data": {
      "text/html": [
       "<style type=\"text/css\">\n",
       "#T_f6445 thead>tr>th {\n",
       "  text-align: left;\n",
       "}\n",
       "#T_f6445_row0_col0, #T_f6445_row1_col0, #T_f6445_row2_col0, #T_f6445_row3_col0, #T_f6445_row4_col0, #T_f6445_row5_col0, #T_f6445_row6_col0, #T_f6445_row7_col0, #T_f6445_row8_col0, #T_f6445_row9_col0, #T_f6445_row10_col0, #T_f6445_row11_col0, #T_f6445_row12_col0, #T_f6445_row13_col0, #T_f6445_row14_col0 {\n",
       "  text-align: left;\n",
       "  font-size: 12px;\n",
       "  vertical-align: middle;\n",
       "  width: 5%;\n",
       "  max-width: 50px;\n",
       "  min-width: 20px;\n",
       "}\n",
       "#T_f6445_row0_col1, #T_f6445_row1_col1, #T_f6445_row2_col1, #T_f6445_row3_col1, #T_f6445_row4_col1, #T_f6445_row5_col1, #T_f6445_row6_col1, #T_f6445_row7_col1, #T_f6445_row8_col1, #T_f6445_row9_col1, #T_f6445_row10_col1, #T_f6445_row11_col1, #T_f6445_row12_col1, #T_f6445_row13_col1, #T_f6445_row14_col1 {\n",
       "  text-align: left;\n",
       "  font-size: 12px;\n",
       "  vertical-align: middle;\n",
       "  width: 15%;\n",
       "  max-width: 200px;\n",
       "  min-width: 100px;\n",
       "  word-break: break-word;\n",
       "}\n",
       "#T_f6445_row0_col2, #T_f6445_row1_col2, #T_f6445_row2_col2, #T_f6445_row3_col2, #T_f6445_row4_col2, #T_f6445_row5_col2, #T_f6445_row6_col2, #T_f6445_row7_col2, #T_f6445_row8_col2, #T_f6445_row9_col2, #T_f6445_row10_col2, #T_f6445_row11_col2, #T_f6445_row12_col2, #T_f6445_row13_col2, #T_f6445_row14_col2 {\n",
       "  text-align: left;\n",
       "  font-size: 12px;\n",
       "  vertical-align: middle;\n",
       "  width: 30%;\n",
       "  min-width: 100px;\n",
       "}\n",
       "#T_f6445_row0_col3, #T_f6445_row1_col3, #T_f6445_row2_col3, #T_f6445_row3_col3, #T_f6445_row4_col3, #T_f6445_row5_col3, #T_f6445_row6_col3, #T_f6445_row7_col3, #T_f6445_row8_col3, #T_f6445_row9_col3, #T_f6445_row10_col3, #T_f6445_row11_col3, #T_f6445_row12_col3, #T_f6445_row13_col3, #T_f6445_row14_col3 {\n",
       "  text-align: left;\n",
       "  font-size: 12px;\n",
       "  vertical-align: middle;\n",
       "  width: 25%;\n",
       "  min-width: 100px;\n",
       "}\n",
       "#T_f6445_row0_col4, #T_f6445_row1_col4, #T_f6445_row2_col4, #T_f6445_row3_col4, #T_f6445_row4_col4, #T_f6445_row5_col4, #T_f6445_row6_col4, #T_f6445_row7_col4, #T_f6445_row8_col4, #T_f6445_row9_col4, #T_f6445_row10_col4, #T_f6445_row11_col4, #T_f6445_row12_col4, #T_f6445_row13_col4, #T_f6445_row14_col4 {\n",
       "  text-align: left;\n",
       "  font-size: 12px;\n",
       "  vertical-align: middle;\n",
       "  width: 20%;\n",
       "  min-width: 150px;\n",
       "}\n",
       "#T_f6445_row0_col5, #T_f6445_row1_col5, #T_f6445_row2_col5, #T_f6445_row3_col5, #T_f6445_row4_col5, #T_f6445_row5_col5, #T_f6445_row6_col5, #T_f6445_row7_col5, #T_f6445_row8_col5, #T_f6445_row9_col5, #T_f6445_row10_col5, #T_f6445_row11_col5, #T_f6445_row12_col5, #T_f6445_row13_col5, #T_f6445_row14_col5 {\n",
       "  text-align: left;\n",
       "  font-size: 12px;\n",
       "  vertical-align: middle;\n",
       "  width: 10%;\n",
       "}\n",
       "</style>\n",
       "<table id=\"T_f6445\">\n",
       "  <caption><strong>Data Frame Summary</strong><br>_<br>Dimensions: 101 x 15<br>Duplicates: 0</caption>\n",
       "  <thead>\n",
       "    <tr>\n",
       "      <th id=\"T_f6445_level0_col0\" class=\"col_heading level0 col0\" >No</th>\n",
       "      <th id=\"T_f6445_level0_col1\" class=\"col_heading level0 col1\" >Variable</th>\n",
       "      <th id=\"T_f6445_level0_col2\" class=\"col_heading level0 col2\" >Stats / Values</th>\n",
       "      <th id=\"T_f6445_level0_col3\" class=\"col_heading level0 col3\" >Freqs / (% of Valid)</th>\n",
       "      <th id=\"T_f6445_level0_col4\" class=\"col_heading level0 col4\" >Graph</th>\n",
       "      <th id=\"T_f6445_level0_col5\" class=\"col_heading level0 col5\" >Missing</th>\n",
       "    </tr>\n",
       "  </thead>\n",
       "  <tbody>\n",
       "    <tr>\n",
       "      <td id=\"T_f6445_row0_col0\" class=\"data row0 col0\" >1</td>\n",
       "      <td id=\"T_f6445_row0_col1\" class=\"data row0 col1\" ><strong>Alter in Jahre</strong><br>[int64]</td>\n",
       "      <td id=\"T_f6445_row0_col2\" class=\"data row0 col2\" >Mean (sd) : 50.0 (29.3)<br>min < med < max:<br>0.0 < 50.0 < 100.0<br>IQR (CV) : 50.0 (1.7)</td>\n",
       "      <td id=\"T_f6445_row0_col3\" class=\"data row0 col3\" >101 distinct values</td>\n",
       "      <td id=\"T_f6445_row0_col4\" class=\"data row0 col4\" ><img src = \"data:image/png;base64, iVBORw0KGgoAAAANSUhEUgAAAKoAAABGCAYAAABc8A97AAAAOXRFWHRTb2Z0d2FyZQBNYXRwbG90bGliIHZlcnNpb24zLjkuNCwgaHR0cHM6Ly9tYXRwbG90bGliLm9yZy8ekN5oAAAACXBIWXMAAA9hAAAPYQGoP6dpAAAB+UlEQVR4nO3XO27CUBBG4bkOIPOQLYQCC0iZjpJFZLFZQgpWQJEmFR0SsoxwsALGaWkAc80jf3S+lkzuFEck48qyNOCvCx69AFBF49EL4P9wzrXNrOU5/lOW5ebYh4SKq3DOtQeDwVsURX2f+dVqlTjn3o/FSqi4llYURf3JZLKJ4zi/ZDBN03A6nfaXy2XLzAgVtxfHcT4cDr89RtunPuSYggRChYSzf/prXnKBme09Z+vOq76tune03++bnrNnnQy1ziVXFEUzy7KXXq/3FQTB9p7zqm+r7m1mtt1uw6IoXvM8/zAzn/9RTzr3jep9yc3n8/5sNnsej8efo9EouXSxOvOqb6vufTDf2e12T5fOVlHp6ve55JIkaZuZdbtdryuwzrzq26p7H87fCscUJBAqJBAqJBAqJBAqJBAqJBAqJBAqJBAqJBAqJBAqJBAqJBAqJBAqJBAqJBAqJBAqJBAqJBAqJBAqJBAqJBAqJBAqJBAqJBAqJBAqJBAqJBAqJBAqJBAqJBAqJBAqJBAqJBAqJBAqJBAqJBAqJBAqJBAqJBAqJBAqJBAqJBAqJBAqJBAqJBAqJBAqJBAqJBAqJBAqJBAqJBAqJBAqJBAqJBAqJBAqJBAqJDSq/FCapuGlv3i9XodmZlmWhYvFonPPedW3VfeuO1+lr197lEL3u2WDTwAAAABJRU5ErkJggg==\"></img></td>\n",
       "      <td id=\"T_f6445_row0_col5\" class=\"data row0 col5\" >0<br>(0.0%)</td>\n",
       "    </tr>\n",
       "    <tr>\n",
       "      <td id=\"T_f6445_row1_col0\" class=\"data row1 col0\" >2</td>\n",
       "      <td id=\"T_f6445_row1_col1\" class=\"data row1 col1\" ><strong>Sterbewahrscheinlichkeit [q(x)] männlich Ziffer</strong><br>[float64]</td>\n",
       "      <td id=\"T_f6445_row1_col2\" class=\"data row1 col2\" >Mean (sd) : 0.1 (0.1)<br>min < med < max:<br>0.0 < 0.0 < 0.4<br>IQR (CV) : 0.0 (0.5)</td>\n",
       "      <td id=\"T_f6445_row1_col3\" class=\"data row1 col3\" >101 distinct values</td>\n",
       "      <td id=\"T_f6445_row1_col4\" class=\"data row1 col4\" ><img src = \"data:image/png;base64, iVBORw0KGgoAAAANSUhEUgAAAKoAAABGCAYAAABc8A97AAAAOXRFWHRTb2Z0d2FyZQBNYXRwbG90bGliIHZlcnNpb24zLjkuNCwgaHR0cHM6Ly9tYXRwbG90bGliLm9yZy8ekN5oAAAACXBIWXMAAA9hAAAPYQGoP6dpAAACoElEQVR4nO3XsW/aQBiG8e+A0COADUlDNpYOSKnUgZGlW8f+sVm7kzlphi4MVZYoCgqmOFAsx12iLpVCOJcmr/r8Zr6zhZ6zz64oCgNeu8pL3wDwHLVNP3DONcysHrj+uiiKZeAs8NuToTrnGoeHh5+jKOqGLD6fz++cc6fEirI2PVHrURR1R6PRMo7j1TYLJ0nix+Nxdzqd1s2MUFHKxle/mVkcx6ter3cfsH4jYAb4Ax9TkECokECokECokECokECokECokECokECokECokECokECokECokECokECokECokECokECokECokECokECokECokECokECokECokECokECokECokECokECokECokECokECokECokECokECokECokECokECokECokECokECokECokECokECokECokECokECokECokECokECokECokECokECokECokECokECokFDb5eJ5nu+ZWeScC11iXRTF8i/eEkTtLNQ0TfeyLPvQ7/er1Wp1FbLGfD6/c86dEit2Fup6va557/eHw+Hq+Pj4btv5JEn8eDzuTqfTupkR6n9up69+M7Nms7nq9Xr3IbN5nkcWfnSomNlDyOAjjh2vyM5DDVXm6JDn+V6apu9ardakUqlkIdefzWYL59wXMws5tgRH7pxrmFk9ZPZRmQ1adnOXmX/yP3u1oZY5OlxdXXUvLy+PhsPht5Bjx/X1dfvs7Oxjv99/G3K+LhG5Pzg4+BTHcXPba5qV26BlN3fZ+U3fI88KNUkSv+2FF4uFNzNL09Tf3Nzsh86/hCzLat77/cFg4Dqdzs9tZmezWev8/Dwo8izLvJm9Pzk5+dput39sddNmdnt76yeTydFgMPje6XQW/2q27PxyuXxzcXHx5PfILz4+796FGOC+AAAAAElFTkSuQmCC\"></img></td>\n",
       "      <td id=\"T_f6445_row1_col5\" class=\"data row1 col5\" >0<br>(0.0%)</td>\n",
       "    </tr>\n",
       "    <tr>\n",
       "      <td id=\"T_f6445_row2_col0\" class=\"data row2 col0\" >3</td>\n",
       "      <td id=\"T_f6445_row2_col1\" class=\"data row2 col1\" ><strong>Überlebenswahrscheinlichkeit [p(x)] männlich Ziffer</strong><br>[float64]</td>\n",
       "      <td id=\"T_f6445_row2_col2\" class=\"data row2 col2\" >Mean (sd) : 0.9 (0.1)<br>min < med < max:<br>0.6 < 1.0 < 1.0<br>IQR (CV) : 0.0 (9.4)</td>\n",
       "      <td id=\"T_f6445_row2_col3\" class=\"data row2 col3\" >101 distinct values</td>\n",
       "      <td id=\"T_f6445_row2_col4\" class=\"data row2 col4\" ><img src = \"data:image/png;base64, iVBORw0KGgoAAAANSUhEUgAAAKoAAABGCAYAAABc8A97AAAAOXRFWHRTb2Z0d2FyZQBNYXRwbG90bGliIHZlcnNpb24zLjkuNCwgaHR0cHM6Ly9tYXRwbG90bGliLm9yZy8ekN5oAAAACXBIWXMAAA9hAAAPYQGoP6dpAAACnklEQVR4nO3XvU/bQBjH8ecSiGwa7jAJYWPpgAQSAxJLlm4d+WO7duvA0A2VoUuGig2B8tKEpATbHaBVF15sJwq/6vtZnSd3On3lS1ye5wa8dbVVbwB4jbVVbwD/D+dcbGaNkuN3eZ5Pn3pIqFgI51zcarVOvfdJmfnRaNR3zn16KlZCxaI0vPdJt9udhhBmRQaHw2F0dnaW3NzcNMyMULF8IYRZp9O5LTEaP/eQP1OQQKiQQKiQQKiQQKiQQKiQQKiQQKiQQKiQQKiQQKiQQKiQQKiQQKiQQKiQQKiQQKiQQKiQQKiQQKiQQKiQQKiQQKiQQKiQQKiQQKiQQKiQQKiQQKiQQKiQQKiQQKiQQKiQQKiQQKiQQKiQQKiQQKiQQKiQQKiQQKiQQKiQQKiQQKiQQKiQQKiQQKiQQKiQQKiQQKiQQKiQQKiQQKiQQKiQQKiQQKiQQKiQsLbqDeDtcM7FZtYoOe6zLFtf5H7+Ragws4dIW63Wqfc+KTM/n8+jNE0PZ7PZFzO7XfD2CBV/Nbz3SbfbnYYQZkWHLy8vk4uLi437+/v6MjZHqG9MxevX7OF/R1ZizmdZth5C6Hc6ncJvxH6/H5dY89VeDLXiwZU9tEXMV137Ls/zaZnBCmcWbW9vfwwhvCuzbpqm65PJ5H2z2ezVarV5kdllX91VPRtqld8tVQ6t6nzVtc3MBoPB2Dn32cyKXoOlY5vP55GZHZ6cnHxtt9ujovOP1+/O8fHx993d3X6J2aVd3VW99EZteO+To6Mji+P4V5Evvr6+jnq93s7+/v6Pra2tcdGNVZmvuvZgMGien59/2Nvba9fr9UKh/ont4ODg2+bm5s8is4/73kjTdGWxTCaT6OrqaqPo3Hg8jsrOD4fD6KXP/Abi3tOyc5uFTQAAAABJRU5ErkJggg==\"></img></td>\n",
       "      <td id=\"T_f6445_row2_col5\" class=\"data row2 col5\" >0<br>(0.0%)</td>\n",
       "    </tr>\n",
       "    <tr>\n",
       "      <td id=\"T_f6445_row3_col0\" class=\"data row3 col0\" >4</td>\n",
       "      <td id=\"T_f6445_row3_col1\" class=\"data row3 col1\" ><strong>Überlebende [l(x)] männlich Anzahl</strong><br>[int64]</td>\n",
       "      <td id=\"T_f6445_row3_col2\" class=\"data row3 col2\" >Mean (sd) : 77883.2 (31740.6)<br>min < med < max:<br>470.0 < 96093.0 < 100000.0<br>IQR (CV) : 32044.0 (2.5)</td>\n",
       "      <td id=\"T_f6445_row3_col3\" class=\"data row3 col3\" >101 distinct values</td>\n",
       "      <td id=\"T_f6445_row3_col4\" class=\"data row3 col4\" ><img src = \"data:image/png;base64, iVBORw0KGgoAAAANSUhEUgAAAKoAAABGCAYAAABc8A97AAAAOXRFWHRTb2Z0d2FyZQBNYXRwbG90bGliIHZlcnNpb24zLjkuNCwgaHR0cHM6Ly9tYXRwbG90bGliLm9yZy8ekN5oAAAACXBIWXMAAA9hAAAPYQGoP6dpAAADBUlEQVR4nO3YvW/aQBiA8ff4yvFROwRKNpYOGSJ1QMripVvH/LFZu2UgUucMXZiyRCiI2MKB4hh3aaouSTgbF97q+a3wmhP3AGdMlmUCHLrKvhcAbKO27wXg/2GMaYpII+f4Osuy5WsPEip2whjT7PV6l57ndfPMR1E0N8ZcvRYroWJXGp7ndYMgWPq+v3IZDMPQjsfj7mw2a4gIoaJ8vu+vBoPBU47R5lsPcjMFFQgVKhAqVCBUqECoUIFQoQKhQgVChQqEChUIFSoQKlQgVKhAqFCBUKECoUIFQoUKhAoVCBUqECpUIFSoQKhQgVChAqFCBUKFCoQKFQgVKhAqVCBUqECoUIFQoQKhQgVChQqEChUIFSoQKlQgVKhAqFCBUKECoUIFQoUKhAoVCBUqECpUIFSoQKhQgVChAqFCBUKFCoQKFQgVKhAqVCBUqECoUIFQoULtvScYY5oi0sh5/XWWZcucs/jHCu61t9ls6rtcz9/eDNUY0+z1epee53XzXDyKorkx5opYD1/RvU6SxKZper5ara5F5GnHy3v3G7XheV43CIKl7/srlwuHYWjH43F3Nps1RIRQD1/uvRYRubu7697e3raen5+rZSzu3Z9+ERHf91eDwSDPp6SZYwZ7lHev5/N5qXu9VajQo8A5s9QzZlGEWoKCNyUVEdnknLUnJydffd9vuw6WfcYsqtRQ0zSti4hnjMl7iSKbVmRWJOc/FkVuStI0rcdx/KnT6UwqlUriOp8kiRWR84uLi+/9fj9ymS37jFlUaaHGcVxPkuTzcDisVqtV58N5kU0ruuEiIo+PjwtjzDcRcV271+l0BkEQRK43Jb9j+TgajX6cnp7OHV/3T2zW2sT1nFn2GbOo0kJdr9c1a21rNBqtCrzpuTat6Ibf399/uLm5+TIcDvuuH7KXn9Cjo6PrvLG02+2DvKHZp61CDcPQul54sVg4zxyKJElq1trW2dmZOT4+/uky+/DwYCeTSSsMw/Z0Ol27zL68Z3Ec2+l02nKZLTq/z9fepq9fUZYnBkKWL40AAAAASUVORK5CYII=\"></img></td>\n",
       "      <td id=\"T_f6445_row3_col5\" class=\"data row3 col5\" >0<br>(0.0%)</td>\n",
       "    </tr>\n",
       "    <tr>\n",
       "      <td id=\"T_f6445_row4_col0\" class=\"data row4 col0\" >5</td>\n",
       "      <td id=\"T_f6445_row4_col1\" class=\"data row4 col1\" ><strong>Gestorbene [d(x)] männlich Anzahl</strong><br>[int64]</td>\n",
       "      <td id=\"T_f6445_row4_col2\" class=\"data row4 col2\" >Mean (sd) : 987.5 (1236.5)<br>min < med < max:<br>8.0 < 322.0 < 3883.0<br>IQR (CV) : 1726.0 (0.8)</td>\n",
       "      <td id=\"T_f6445_row4_col3\" class=\"data row4 col3\" >89 distinct values</td>\n",
       "      <td id=\"T_f6445_row4_col4\" class=\"data row4 col4\" ><img src = \"data:image/png;base64, iVBORw0KGgoAAAANSUhEUgAAAKoAAABGCAYAAABc8A97AAAAOXRFWHRTb2Z0d2FyZQBNYXRwbG90bGliIHZlcnNpb24zLjkuNCwgaHR0cHM6Ly9tYXRwbG90bGliLm9yZy8ekN5oAAAACXBIWXMAAA9hAAAPYQGoP6dpAAAC40lEQVR4nO3XMU/bQBiA4e8aiM5EvZOTKGz5A0gdkFiydOvIj2XtVqQgdeYfsCAkyzhKiBVj3IkulZL4DkM++j4r3J0F7/nOpmkaAQ7dl49+AGAfR7t+wRiTiEg/cP5N0zTrwLHAX1tDNcYko9Ho0jmXhky+WCxyY8wVsSLWrjdq3zmXzmaztfe+bDNxURR2Pp+nWZb1RYRQEWXn0S8i4r0vJ5PJU8D8ScAY4B98TEEFQoUKhAoVCBUqECpUIFSoQKhQgVChAqFCBUKFCoQKFQgVKhAqVCBUqECoUIFQoQKhQgVChQqEChUIFSoQKlQgVKhAqFCBUKECoUIFQoUKhAoVCBUqECpUIFSoQKhQgVChAqFCBUKFCoQKFQgVKhAqVCBUqECoUIFQoQKhQgVChQqEChUIFSoQKlQgVKhAqFCBUKECoUIFQoUKhAoVCBUqECpUOOpy8rquj0XEGWNCp9g0TbN+w0eCUp2Fulqtjquq+jadTnu9Xq8MmWOxWOTGmCtiRWehbjabI2vtyfn5eXl6epq3HV8UhZ3P52mWZX0RIVQFjDGJiPQDh289PTs9+kVEBoNBOZlMnkLG1nXtJPzqwLXhHRljktFodOmcS0PG7zo9Ow81VOzVIfba0OXbocN1o9aO1HfOpbPZbO29b/X/2uf0PNhQY64ORVHY6+vrSZZlY2PMImB5OxwOf3jvBwFj5fHxcWmM+SkibTdY1LoicRs0cpO4l5eXY+99HniCJtt+eLChvgq5OsS+jauqsiJydnFx8Xs8HrcK/f7+/uvNzc336XQ6brt2zLoi0Rs0apNUVWXruj4ry/KXiARd9bY5+FBDxH7I3d3dpbe3tyfW2qrtJsnzPAldO2ZdkbgNGrtJXp/9+fm513bsPj5lqK9CP+TyPN96DHW1duy6MRs0dpO8xd9sm08d6v/qIzZJ1/YKtSgK23bi5XJpRURWq5V9eHg4ec/xWtfW+tyx4/fp6w+IMHwnhdHhaQAAAABJRU5ErkJggg==\"></img></td>\n",
       "      <td id=\"T_f6445_row4_col5\" class=\"data row4 col5\" >0<br>(0.0%)</td>\n",
       "    </tr>\n",
       "    <tr>\n",
       "      <td id=\"T_f6445_row5_col0\" class=\"data row5 col0\" >6</td>\n",
       "      <td id=\"T_f6445_row5_col1\" class=\"data row5 col1\" ><strong>Bis zum Alter x+1 durchlebte Jahre [L(x)] männlich Jahre</strong><br>[int64]</td>\n",
       "      <td id=\"T_f6445_row5_col2\" class=\"data row5 col2\" >Mean (sd) : 77388.2 (32159.2)<br>min < med < max:<br>368.0 < 95932.0 < 99707.0<br>IQR (CV) : 33251.0 (2.4)</td>\n",
       "      <td id=\"T_f6445_row5_col3\" class=\"data row5 col3\" >101 distinct values</td>\n",
       "      <td id=\"T_f6445_row5_col4\" class=\"data row5 col4\" ><img src = \"data:image/png;base64, iVBORw0KGgoAAAANSUhEUgAAAKoAAABGCAYAAABc8A97AAAAOXRFWHRTb2Z0d2FyZQBNYXRwbG90bGliIHZlcnNpb24zLjkuNCwgaHR0cHM6Ly9tYXRwbG90bGliLm9yZy8ekN5oAAAACXBIWXMAAA9hAAAPYQGoP6dpAAAC7klEQVR4nO3YvVMaQRiA8Xf5moWYWxGCHU0KC2dSMGNDky6lf6xtuhQ4k9oiDZWN48jgMZxcOI+zcJLYKNwep7zm+bX4rjvcM8uCybJMgF1XeesNAJuovfUG8H4YY5oi0vAcX2ZZtnjuRULFVhhjmp1O5zQIgrbP/Gw2mxpjzp6LlVCxLY0gCNrD4XDhnIvzDIZhaEejUXsymTREhFBRPudc3Ov17jxGmy+9yJcpqECoUIFQoQKhQgVChQqEChUIFSoQKlQgVKhAqFCBUKECoUIFQoUKhAoVCBUqECpUIFSoQKhQgVChAqFCBUKFCoQKFQgVKhAqVCBUqECoUIFQoQKhQgVChQqEChUIFSoQKlQgVKhAqFCBUKECoUIFQoUKhAoVCBUqECpUIFSoQKhQgVChAqFCBUKFCoQKFQgVKhAqVCBUqECoUIFQoQKhQgVChQq1dX9gjGmKSMNz/WWWZQvPWeCvF0M1xjQ7nc5pEARtn8Vns9nUGHNGrDoUPJSC1WpV3+Z+nlp3ojaCIGgPh8OFcy7Os3AYhnY0GrUnk0lDRAh1xxU9lJIksWmaHsdx/ENE7ra8vfUf/SIizrm41+v5/POmxwzehvehJCJyeXnZvri4aN3f31fL2NxGoeL/4XsoTafTUg8lQn1nCtwzS71jFkWoO6bgFxp7cHDwzTn3Ie9g2XfMokoNNU3TuogExhjfJbx/3ir4wEUef2NevfKsd2gij7GJyPHJycnPbrc7yzNb9h2zqNJCjaKoniTJl36/X61Wq7kv5yIit7e3c2PMdxHJO1/ogadpWo+i6PPe3t64UqkkrzVbJDSRf7FZa5O898yy75hFlRbqcrmsWWtbg8EgPjw8nOadv7q6+nh+fv613+9384a+pQf+aTAY/Mq79y3MeoUmsvuxFbFRqGEY2rwLz+fz3DNPJUlSs9a2jo6OzP7+/u88szc3N3Y8HrfSNN3Jj7F1oiiy19fXrbxzf95zn/kis0XnN+nrAdxdEvohlwvWAAAAAElFTkSuQmCC\"></img></td>\n",
       "      <td id=\"T_f6445_row5_col5\" class=\"data row5 col5\" >0<br>(0.0%)</td>\n",
       "    </tr>\n",
       "    <tr>\n",
       "      <td id=\"T_f6445_row6_col0\" class=\"data row6 col0\" >7</td>\n",
       "      <td id=\"T_f6445_row6_col1\" class=\"data row6 col1\" ><strong>Insgesamt noch zu durchlebende Jahre [T(x)] männlich Jahre</strong><br>[int64]</td>\n",
       "      <td id=\"T_f6445_row6_col2\" class=\"data row6 col2\" >Mean (sd) : 3161365.4 (2518014.0)<br>min < med < max:<br>803.0 < 2876268.0 < 7816643.0<br>IQR (CV) : 4605044.0 (1.3)</td>\n",
       "      <td id=\"T_f6445_row6_col3\" class=\"data row6 col3\" >101 distinct values</td>\n",
       "      <td id=\"T_f6445_row6_col4\" class=\"data row6 col4\" ><img src = \"data:image/png;base64, iVBORw0KGgoAAAANSUhEUgAAAKoAAABGCAYAAABc8A97AAAAOXRFWHRTb2Z0d2FyZQBNYXRwbG90bGliIHZlcnNpb24zLjkuNCwgaHR0cHM6Ly9tYXRwbG90bGliLm9yZy8ekN5oAAAACXBIWXMAAA9hAAAPYQGoP6dpAAACQklEQVR4nO3dsYriUBiG4f/EUeIoCeKsdjbTb5HSi5iL3VsQvAKLbaayE0KImB1RMtlmXQYWNDnB1U/ep/Y/SfFiTlA4rqoqA+5dcOsbAOp4uvQB51zfzHqe6x+qqvrwnAX+Ohuqc64/Ho/foiga+Sy+3W4z59wPYkVbl75Re1EUjebz+Uccx/smC+d5Hi6Xy1Gapj0zI1S0cvHRb2YWx/F+Mpn88li/7zED/IOXKUggVEggVEggVEggVEggVEggVEggVEggVEggVEggVEggVEggVEggVEggVEggVEggVEggVEggVEggVEggVEggVEggVEggVEggVEggVEggVEggVEggVEggVEggVEggVEggVEggVEggVEggVEggVEiodSqKr7Isu2YWOed8l+BANZjZFUMtiqJ7PB6/z2azTqfTaXRG1QkHquHkaqEeDoenMAyfkyTZT6fTrOk8B6rhq6s++s3MBoOB72FqVpZlZP5bB7YND+Tqofpqu3Vg2/BY7jbUNluHPM/DxWIxSdP0xTm39byFwMw+xWaVr332CXi3oZ74bB3afhuXZdktiuJ1OBy+B0FwVJhVvrbZ5Sfg3Yfqo+2L3Hq9Hq1Wq29JkvxsOn+rWeVr13lxfshQT3xf5LIs6/vO32pW+dp/nD2JnF+mIIFQIYFQIYFQIYFQIYFQIYFQIYFQIYFQIYFQIYFQIYFQIYFQIYFQIYFQIYFQIYFQIaHWP/zzPA+bLrzb7UIzs6Iows1m8/w/51WvrXrfbefr9PUbr31vokXnJOQAAAAASUVORK5CYII=\"></img></td>\n",
       "      <td id=\"T_f6445_row6_col5\" class=\"data row6 col5\" >0<br>(0.0%)</td>\n",
       "    </tr>\n",
       "    <tr>\n",
       "      <td id=\"T_f6445_row7_col0\" class=\"data row7 col0\" >8</td>\n",
       "      <td id=\"T_f6445_row7_col1\" class=\"data row7 col1\" ><strong>Durchschnittliche Lebenserwartung [e(x)] männlich Jahre</strong><br>[float64]</td>\n",
       "      <td id=\"T_f6445_row7_col2\" class=\"data row7 col2\" >Mean (sd) : 33.2 (24.1)<br>min < med < max:<br>1.7 < 29.9 < 78.2<br>IQR (CV) : 43.0 (1.4)</td>\n",
       "      <td id=\"T_f6445_row7_col3\" class=\"data row7 col3\" >101 distinct values</td>\n",
       "      <td id=\"T_f6445_row7_col4\" class=\"data row7 col4\" ><img src = \"data:image/png;base64, iVBORw0KGgoAAAANSUhEUgAAAKoAAABGCAYAAABc8A97AAAAOXRFWHRTb2Z0d2FyZQBNYXRwbG90bGliIHZlcnNpb24zLjkuNCwgaHR0cHM6Ly9tYXRwbG90bGliLm9yZy8ekN5oAAAACXBIWXMAAA9hAAAPYQGoP6dpAAACRklEQVR4nO3csW7aQBzH8f+ZgExAthAqbCzZO3jkIfqwfQiegKFLJzYkZBnhBoEcdwlVpVZg7kTsX/T9zNwdw1dw5pJzdV0b0HVR228AaOLp1gucc0MzG3jOf6rr+tVzLPDH1VCdc8PpdPotSZKJz+T7/T53zn0nVoS69Yk6SJJkslwuX9M0Pd4zcVEU8Wq1mux2u4GZESqC3PzqNzNL0/Q4m81+ecw/9BgD/IOHKUggVEggVEggVEggVEggVEggVEggVEggVEggVEggVEggVEggVEggVEggVEggVEggVEggVEggVEggVEggVEggVEggVEggVEggVEggVEggVEggVEhodEmar6qq+maWOOd8p+B+VZjZA0Mty7J/Pp+/LhaLXq/Xu+vKygvuV8XFw0I9nU5PcRw/Z1l2nM/n+b3juV8Vf3voV7+Z2Wg08r1b1Yz7VfGOhylIIFRIIFRIIFRIIFRIePhTf4jAA4PIzN4CluewoUM6G2rIgUFVVf2yLF/G4/HPKIrOPutz2NAtnQ015MBgs9lM1uv1lyzLfnDY8Dl0NtQLnwODPM+HvmMvqqpKrJ1tR+iWRXXtq1utzofahra2HaFbFtW1zW5vtQj1P9radoRuWVTXbrLVItQrPnrbEbplUV373dW/6+B3VEggVEggVEggVEggVEggVEggVEggVEggVEggVEggVEggVEggVEggVEggVEggVEggVEggVEggVEho9D9TRVHE9058OBxiM7OyLOPtdvv8keNV11Z936Hjm/T1G/+1crTC4OyaAAAAAElFTkSuQmCC\"></img></td>\n",
       "      <td id=\"T_f6445_row7_col5\" class=\"data row7 col5\" >0<br>(0.0%)</td>\n",
       "    </tr>\n",
       "    <tr>\n",
       "      <td id=\"T_f6445_row8_col0\" class=\"data row8 col0\" >9</td>\n",
       "      <td id=\"T_f6445_row8_col1\" class=\"data row8 col1\" ><strong>Sterbewahrscheinlichkeit [q(x)] weiblich Ziffer</strong><br>[float64]</td>\n",
       "      <td id=\"T_f6445_row8_col2\" class=\"data row8 col2\" >Mean (sd) : 0.0 (0.1)<br>min < med < max:<br>0.0 < 0.0 < 0.4<br>IQR (CV) : 0.0 (0.5)</td>\n",
       "      <td id=\"T_f6445_row8_col3\" class=\"data row8 col3\" >101 distinct values</td>\n",
       "      <td id=\"T_f6445_row8_col4\" class=\"data row8 col4\" ><img src = \"data:image/png;base64, iVBORw0KGgoAAAANSUhEUgAAAKoAAABGCAYAAABc8A97AAAAOXRFWHRTb2Z0d2FyZQBNYXRwbG90bGliIHZlcnNpb24zLjkuNCwgaHR0cHM6Ly9tYXRwbG90bGliLm9yZy8ekN5oAAAACXBIWXMAAA9hAAAPYQGoP6dpAAACdklEQVR4nO3XMU/bUBSG4XMSSG9IYidAzZalQyQqdcjI0q1jfyxrRyR26JyhK8IQuzFJY6Xu1C6tCHYatZ/0PjPn3jO88RVeVZUB/7vWv14AeImDbX/g7l0z6zQ8f11V1bLhLPDLs6G6e/fk5ORjFEWjJofnef7o7pfEil1t+6J2oigaXVxcLOM4XtU5OMuycH19PUrTtGNmhIqdbH36zcziOF4lSfLU4PxugxngN/wzBQmECgmECgmECgmECgmECgmECgmECgmECgmECgmECgmECgmECgmECgmECgmECgmECgmECgmECgmECgmECgmECgmECgmECgmECgmECgmECgmECgmECgmECgmECgmECgmECgmECgmECgmECgmECgmECgmECgmECgmECgmECgmECgmECgmECgmECgmECgmECgmECgmECgmECgmECgmECgmECgmECgmECgmECgmECgmECgkH+zx8s9kcmlnk7k2PWFdVtfyLK0HU3kItiuKwLMt34/G43W63V03OyPP80d0viRV7C3W9Xh+EEI6m0+nq7Ozsse58lmXh6uoqSdP01N3zBiu0zOx7g7mfGn/N3b1rZp2G96rubbbb7s/uvden38ys1+utkiR5qju3yxd5s9kcFkXxpt/vz1qtVln3bjOz+Xy+cPdPZlb3NQjHx8cf4jju1b1TdW+z3Xff9nq+KNQsy0LdixeLRTAzK4oi3N3dHdWdf3h46IcQjiaTiQ+Hw291Zu/v78NsNns9mUy+DIfDRd275/N5/+bm5v14PD6t+yMpyzKY2dvz8/PPg8Hga51Z1b3Ndtt9uVy+ur29HaVp2jGzP4b6A5/+2ZhE+L3LAAAAAElFTkSuQmCC\"></img></td>\n",
       "      <td id=\"T_f6445_row8_col5\" class=\"data row8 col5\" >0<br>(0.0%)</td>\n",
       "    </tr>\n",
       "    <tr>\n",
       "      <td id=\"T_f6445_row9_col0\" class=\"data row9 col0\" >10</td>\n",
       "      <td id=\"T_f6445_row9_col1\" class=\"data row9 col1\" ><strong>Überlebenswahrscheinlichkeit [p(x)] weiblich Ziffer</strong><br>[float64]</td>\n",
       "      <td id=\"T_f6445_row9_col2\" class=\"data row9 col2\" >Mean (sd) : 1.0 (0.1)<br>min < med < max:<br>0.6 < 1.0 < 1.0<br>IQR (CV) : 0.0 (11.1)</td>\n",
       "      <td id=\"T_f6445_row9_col3\" class=\"data row9 col3\" >101 distinct values</td>\n",
       "      <td id=\"T_f6445_row9_col4\" class=\"data row9 col4\" ><img src = \"data:image/png;base64, iVBORw0KGgoAAAANSUhEUgAAAKoAAABGCAYAAABc8A97AAAAOXRFWHRTb2Z0d2FyZQBNYXRwbG90bGliIHZlcnNpb24zLjkuNCwgaHR0cHM6Ly9tYXRwbG90bGliLm9yZy8ekN5oAAAACXBIWXMAAA9hAAAPYQGoP6dpAAACbUlEQVR4nO3XP2/aUBSG8XMhATsx1/xpPbJ0iJRI+QAs3Trmw3btloEdNStDlQ0FgSkEGgPO0FbqklAbKvJWz281h3tkHlvC5XluwFtXOfYCwN84OfYC+H8450Izq5Ucf8rzfPnSRULFQTjnwk6nc+O9b5WZn81mE+fc55diJVQcSs173+r1ess4jldFBtM0Dfr9fms8HtfMjFDx78VxvEqS5LHEaPjaRf5MQQKhQgKhQgKhQgKhQgKhQgKhQgKhQgKhQgKhQgKhQgKhQgKhQgKhQgKhQgKhQgKhQgKhQgKhQgKhQgKhQgKhQgKhQgKhQgKhQgKhQgKhQgKhQgKhQgKhQgKhQgKhQgKhQgKhQgKhQgKhQgKhQgKhQgKhQgKhQgKhQgKhQgKhQgKhQgKhQgKhQgKhQgKhQgKhQgKhQgKhQgKhQgKhQgKhQgKhQgKhQgKhQgKhQgKhQsLJsRfA2+GcC82sVnLcb7fb00Pu8ydChZn9jLTT6dx471tl5rMsCzabzdVqtbo1s8cDr7c71D2fsoqZbUvOmpk95Xm+LDO4595m++2uuLePoijp9XqzOI5XRYfv7+9bd3d3Z+v1ulri7J1eDXWfp2yz2ZwuFosPURQNK5VKVma56XQ6d859MbOiNy5ot9uf4jg+L3Puvrsr7v37jViv12+TJCn8RpxMJmHRmSJ2vVFr3vvW9fW1hWH4o8gXPzw8BMPh8P3FxcW3ZrM5L7rYdDqNBoPBx263+65arRb6wbMsC8zs6vLy8muj0fhe9Ox9dlfd+9fsWZqm56PR6Kno2fP5PDAzWywWwWg0Oisym6ZpsOszz7kZwcDSa5mHAAAAAElFTkSuQmCC\"></img></td>\n",
       "      <td id=\"T_f6445_row9_col5\" class=\"data row9 col5\" >0<br>(0.0%)</td>\n",
       "    </tr>\n",
       "    <tr>\n",
       "      <td id=\"T_f6445_row10_col0\" class=\"data row10 col0\" >11</td>\n",
       "      <td id=\"T_f6445_row10_col1\" class=\"data row10 col1\" ><strong>Überlebende [l(x)] weiblich Anzahl</strong><br>[int64]</td>\n",
       "      <td id=\"T_f6445_row10_col2\" class=\"data row10 col2\" >Mean (sd) : 82646.0 (28275.5)<br>min < med < max:<br>1627.0 < 97748.0 < 100000.0<br>IQR (CV) : 19097.0 (2.9)</td>\n",
       "      <td id=\"T_f6445_row10_col3\" class=\"data row10 col3\" >101 distinct values</td>\n",
       "      <td id=\"T_f6445_row10_col4\" class=\"data row10 col4\" ><img src = \"data:image/png;base64, iVBORw0KGgoAAAANSUhEUgAAAKoAAABGCAYAAABc8A97AAAAOXRFWHRTb2Z0d2FyZQBNYXRwbG90bGliIHZlcnNpb24zLjkuNCwgaHR0cHM6Ly9tYXRwbG90bGliLm9yZy8ekN5oAAAACXBIWXMAAA9hAAAPYQGoP6dpAAAC3klEQVR4nO3Xv08iQRTA8TcgsCA3A8JR0lxBYXKdzTbXXekfa3udBSZX21JcbAwRcTescK7LXmViozK7/PBdvp+WPPZBvpkBk+e5AJ9d5dALAJs4OvQC+H8YY5oiUi84/pTn+fKtFwkVW2GMafZ6vXNrbbfIfBzHc2PMxVuxEiq2pW6t7YZhuHTOrXwGoygKxuNxdzab1UWEULF7zrnVYDB4LDDafO9F/kxBBUKFCoQKFQgVKhAqVCBUqECoUIFQoQKhQgVChQqEChUIFSoQKlQgVKhAqFCBUKECoUIFQoUKhAoVCBUqECpUIFSoQKhQgVChAqFCBUKFCoQKFQgVKhAqVCBUqECoUIFQoQKhQgVChQqEChUIFSoQKlQgVKhAqFCBUKECoUIFQoUKhAoVCBUqECpUIFSoQKhQgVChAqFCBUKFCoQKFQgVKhAqVCBUqECoUIFQocLRoRfA52GMaYpIveC4Xa/XtW3u89qHoZZc/inP82XBWeyRMabZ6/XOrbXdIvNpmgZZlp2uVqtLEXnc8nrvh1p2+TiO58aYC2LdnxIHi22324MwDGPn3Mp3+Obmpnt9fd16fn6uFnj2hz46UevW2m4Yhkvf5aMoCsbjcXc2m9VFhFA3VPIGC05OTn465459B19OxEajcTkYDLxPxPl83vSd8bHRb1Tn3KrI8iKy0+V36RA/ebZx/YrI6dnZ2e9+vx/7zO76RCxrp3+msiyriYg1xhR9i4qIrA8wW/hkEhF5eHhYGGN+iYjvFbqV6zcIgtT3YNn1iVjWzkJNkqSWpun34XBYrVar3l96lmW1JEm+tdvtSaVSSfc1K1LuZLq9vf1ydXX1Yzgc9n0/92e/fg9po1CjKAp83/j+/r4dBEFrNBqZTqfz13f+7u4umEwmX0ej0Z9Op7PY1+yr+VaWZd7XYJqmR0U/98tzoyg6nk6nT77PXiwWgYhIkiTBdDpt7Wu27Pwmff0Dg1wLOQaIJpYAAAAASUVORK5CYII=\"></img></td>\n",
       "      <td id=\"T_f6445_row10_col5\" class=\"data row10 col5\" >0<br>(0.0%)</td>\n",
       "    </tr>\n",
       "    <tr>\n",
       "      <td id=\"T_f6445_row11_col0\" class=\"data row11 col0\" >12</td>\n",
       "      <td id=\"T_f6445_row11_col1\" class=\"data row11 col1\" ><strong>Gestorbene [d(x)] weiblich Anzahl</strong><br>[int64]</td>\n",
       "      <td id=\"T_f6445_row11_col2\" class=\"data row11 col2\" >Mean (sd) : 980.2 (1421.9)<br>min < med < max:<br>7.0 < 199.0 < 4850.0<br>IQR (CV) : 1345.0 (0.7)</td>\n",
       "      <td id=\"T_f6445_row11_col3\" class=\"data row11 col3\" >86 distinct values</td>\n",
       "      <td id=\"T_f6445_row11_col4\" class=\"data row11 col4\" ><img src = \"data:image/png;base64, iVBORw0KGgoAAAANSUhEUgAAAKoAAABGCAYAAABc8A97AAAAOXRFWHRTb2Z0d2FyZQBNYXRwbG90bGliIHZlcnNpb24zLjkuNCwgaHR0cHM6Ly9tYXRwbG90bGliLm9yZy8ekN5oAAAACXBIWXMAAA9hAAAPYQGoP6dpAAAC8klEQVR4nO3XvU/bQBiA8feSEC4ftQlJzZalA0OlDpFYsnTryB/L2q1IQerM0CUTC0JYwRaGNObqDi1dKpH4TCBveH4rvJdL9CS+M0VRCLDpaq+9AWAVjWX/YIxpiUjTc/1FURT3nrPAP0+Gaoxp9fv94yAIej6Lp2k6M8acECuqWvaL2gyCoDcej+/DMJyXWThJEjuZTHpxHDdFhFBRydJHv4hIGIbzKIruPNZvecwA/+EyBRUIFSoQKlQgVKhAqFCBUKECoUIFQoUKhAoVCBUqECpUIFSoQKhQgVChAqFCBUKFCoQKFQgVKhAqVCBUqECoUIFQoQKhQgVChQqEChUIFSoQKlQgVKhAqFCBUKECoUIFQoUKhAoVCBUqECpUIFSoQKhQgVChAqFCBUKFCoQKFQgVKhAqVCBUqECoUIFQoQKhQgVChQqEChUIFSoQKlQgVKhAqFChsc7FnXM7IhIYY3yXWBRFcf+MW4JSaws1y7KdPM8/DYfDer1en/uskabpzBhzQqxYW6iLxaJhrW2PRqP5wcHBrOx8kiR2Mpn04jhuigihvnFrffSLiHQ6nXkURXc+s865QPyPDhwbtsjaQ/VV9ejAsWG7bGyoVY4OSZLY09PTKI7jgTEm9d0CkZdjjGmJSNNz/MnPe2NDfeRzdHiOi9zNzc2tMeariPjMv7nIjTGtfr9/HARBz2d+2RNw40P1UfUid3l5+e7s7OzzcDgc+IReMfKaiPzymHvk/SWp+IsYdLvdaDwep2EYlnrfq1yctzLUR74Xudls1vINvUrkzrmdLMs+dLvdaa1Wy8vt+o8KXxK7v7//JQzDjs/r5nlunXMfd3d3v3lenltP/XGrQ63KJ/QqkV9cXPTOz8/fj0ajHy/9JMjz3IrIx6Ojo++DwaD0uf7v3tsPDw/1srOrWCnUJEls2YVvb2+tiEiWZfbq6qr9kvOb8NqvIc/zhrW2fXh4aPb29n6Wmb2+vrbT6bTtnKsUms9ntkpfvwFyF0MWRNvhZwAAAABJRU5ErkJggg==\"></img></td>\n",
       "      <td id=\"T_f6445_row11_col5\" class=\"data row11 col5\" >0<br>(0.0%)</td>\n",
       "    </tr>\n",
       "    <tr>\n",
       "      <td id=\"T_f6445_row12_col0\" class=\"data row12 col0\" >13</td>\n",
       "      <td id=\"T_f6445_row12_col1\" class=\"data row12 col1\" ><strong>Bis zum Alter x+1 durchlebte Jahre [L(x)] weiblich Jahre</strong><br>[int64]</td>\n",
       "      <td id=\"T_f6445_row12_col2\" class=\"data row12 col2\" >Mean (sd) : 82154.8 (28814.9)<br>min < med < max:<br>1313.0 < 97658.0 < 99743.0<br>IQR (CV) : 19970.0 (2.9)</td>\n",
       "      <td id=\"T_f6445_row12_col3\" class=\"data row12 col3\" >101 distinct values</td>\n",
       "      <td id=\"T_f6445_row12_col4\" class=\"data row12 col4\" ><img src = \"data:image/png;base64, iVBORw0KGgoAAAANSUhEUgAAAKoAAABGCAYAAABc8A97AAAAOXRFWHRTb2Z0d2FyZQBNYXRwbG90bGliIHZlcnNpb24zLjkuNCwgaHR0cHM6Ly9tYXRwbG90bGliLm9yZy8ekN5oAAAACXBIWXMAAA9hAAAPYQGoP6dpAAAC+klEQVR4nO3Xv08aYRzH8e/DLw9KnwcEcWPpwGDSgcTllm4d/WNduzlg0tmhC0PjYowEj3BKOY/rUE1cVJ47EL/N+7WSj1zkfQ+HybJMgI+utOsLANZR2fUF4P9hjKmLSC3nfJll2f1LLxIqNsIYU+90OifW2nae/Ww2mxpjTl+KlVCxKTVrbTsMw3vn3MJnGEVRMBqN2pPJpCYihIrtc84ter3eXY5p/bUX+TEFFQgVKhAqVCBUqECoUIFQoQKhQgVChQqEChUIFSoQKlQgVKhAqFCBUKECoUIFQoUKhAoVCBUqECpUIFSoQKhQgVChAqFCBUKFCoQKFQgVKhAqVCBUqECoUIFQoQKhQgVChQqEChUIFSoQKlQgVKhAqFCBUKECoUIFQoUKhAoVCBUqECpUIFSoQKhQgVChAqFCBUKFCoQKFQgVKhAqVCBUqECoUIFQoQKhQoXKri8AH4cxpi4itZxzu1qtqpu8nucIFSLyL9JOp3NirW3n2SdJEqRperRYLM5E5G7Dl/d2qAXvsmWWZfc5t3hfNWttOwzDe+fcwnd8eXnZvri4aDw8PJS3cXGvhlr0LpvNZlNjzCmxvp8CB4tdrVZV59y01+t5n4jT6bSe4z3X9taJmvsui6IoGI1G7clkUhMRQn0HRQ6WbX91F7XWM6pzbpHnLkvT1IqINcZ4X9gjlY8OBR+XSiKyyrm1zWazF4bhzPdg2fZXd1Fb+zEVx3E1SZKv/X6/XC6XvZ95RERub2/nxpgfIpJnX+QDL7IP9vf3vzvnPvkO0zStxnH8pdlsjkulUuK7fzoV9/b2znwPlm1/dRe1tVCXy2UlCILGcDhcHB4eTn33V1dXn8/Pz7/1+/2ub+hFP/Ai+yRJAhE5Oj4+/tntdmc+28dT7WA4HP7K8z/76KdiEWuFGkVR4PuH5/O59+a5JEkqQRA0BoOBabVaf3y2Nzc3wXg8PhgMBr9brdbc972L7B+3jTRNdxZLHMfB9fV1w2fz9Hnl2Rbdr9PXX5j4EKFVA1hGAAAAAElFTkSuQmCC\"></img></td>\n",
       "      <td id=\"T_f6445_row12_col5\" class=\"data row12 col5\" >0<br>(0.0%)</td>\n",
       "    </tr>\n",
       "    <tr>\n",
       "      <td id=\"T_f6445_row13_col0\" class=\"data row13 col0\" >14</td>\n",
       "      <td id=\"T_f6445_row13_col1\" class=\"data row13 col1\" ><strong>Insgesamt noch zu durchlebende Jahre [T(x)] weiblich Jahre</strong><br>[int64]</td>\n",
       "      <td id=\"T_f6445_row13_col2\" class=\"data row13 col2\" >Mean (sd) : 3533879.0 (2641307.5)<br>min < med < max:<br>3112.0 < 3338379.0 < 8299434.0<br>IQR (CV) : 4772023.0 (1.3)</td>\n",
       "      <td id=\"T_f6445_row13_col3\" class=\"data row13 col3\" >101 distinct values</td>\n",
       "      <td id=\"T_f6445_row13_col4\" class=\"data row13 col4\" ><img src = \"data:image/png;base64, iVBORw0KGgoAAAANSUhEUgAAAKoAAABGCAYAAABc8A97AAAAOXRFWHRTb2Z0d2FyZQBNYXRwbG90bGliIHZlcnNpb24zLjkuNCwgaHR0cHM6Ly9tYXRwbG90bGliLm9yZy8ekN5oAAAACXBIWXMAAA9hAAAPYQGoP6dpAAACjklEQVR4nO3dv2rbUBiG8e/YcVD+IGFC4y1Lx0IHj7mIXmwvoUOuIEOXTNkMRihYjbByrA7FpVCI7fNZtt/w/GbrfEI8xMcOyQld1xlw6gbHvgFgG2ebXhBCuDCz88T1l13XvSZeC/z1bqghhIubm5tveZ6PUxZ/eXkpQwjfiRVem36inud5Pr6/v38tiqLZZeGqqrKHh4fxfD4/NzNChcvGt34zs6Iomtvb218J618kXAP8hw9TkECokECokECokECokECokECokECokECokECokECokECokECokECokECokECokECokECokECokECokECokECokECokECokECokECokECokECokECokECokECokECokECokECokLDVv0ZPFWMcmVkeQkhdglNVYGY9hlrX9aht2693d3fD4XC400EVa5yqgrXeQl0ul2dZll1Op9NmMpmUu17PqSr4V69v/WZmV1dXqSeqWIwxt/Stg2vbcKyD4JxzXbO9+nxmvYeayrt18GwbjnUQnHeuZ7ZX38/sZEP1bB32sG041kFwyXP3MNur12d2sqGupW4dnNuGfLVajYqiKA882zXXOdvsz9eVq5QLzX/v7x6ed/KhpvBuG9q2zWKMX5qm+WFmOz10z2zPXO/sGOOoruvP19fXT4PBoN11tvfeN/mQoXq/cXh+fh4/Pj5evr29DQ852zN3T7M/TafTn4d+Ztv4kKGupW4byrJ0n+GaMnsfc72zj/nM3sOvUCGBUCGBUCGBUCGBUCGBUCGBUCGBUCGBUCGBUCGBUCGBUCGBUCGBUCGBUCGBUCGBUCGBUCGBUCFhq7+Zqqoq23XhxWKRmZnVdZ3NZrPLQ16vOlv1vr3Xb9PXb5Pas4KcdFUHAAAAAElFTkSuQmCC\"></img></td>\n",
       "      <td id=\"T_f6445_row13_col5\" class=\"data row13 col5\" >0<br>(0.0%)</td>\n",
       "    </tr>\n",
       "    <tr>\n",
       "      <td id=\"T_f6445_row14_col0\" class=\"data row14 col0\" >15</td>\n",
       "      <td id=\"T_f6445_row14_col1\" class=\"data row14 col1\" ><strong>Durchschnittliche Lebenserwartung [e(x)] weiblich Jahre</strong><br>[float64]</td>\n",
       "      <td id=\"T_f6445_row14_col2\" class=\"data row14 col2\" >Mean (sd) : 36.6 (25.5)<br>min < med < max:<br>1.9 < 34.1 < 83.0<br>IQR (CV) : 45.5 (1.4)</td>\n",
       "      <td id=\"T_f6445_row14_col3\" class=\"data row14 col3\" >101 distinct values</td>\n",
       "      <td id=\"T_f6445_row14_col4\" class=\"data row14 col4\" ><img src = \"data:image/png;base64, iVBORw0KGgoAAAANSUhEUgAAAKoAAABGCAYAAABc8A97AAAAOXRFWHRTb2Z0d2FyZQBNYXRwbG90bGliIHZlcnNpb24zLjkuNCwgaHR0cHM6Ly9tYXRwbG90bGliLm9yZy8ekN5oAAAACXBIWXMAAA9hAAAPYQGoP6dpAAACoElEQVR4nO3dvY7aQBSG4TOwIPMjWwgFOpqUkVJQchG52FxCCq6AIs1WdEgIgXAWYQwpIiKkrADPxGs+9D71jpniFRy8ux53Op0MeHS1qjcA3OPl1g8451pm1vS8/v50Or15rgX+uhqqc67V7/e/xXHc87n4ZrNZOee+EytC3XpHbcZx3JtMJm9JkuyKXHi9XkfT6bS3XC6bZkaoCHLzo9/MLEmS3WAw+OVx/ZbHGuAffJmCBEKFBEKFBEKFBEKFBEKFBEKFBEKFBEKFBEKFBEKFBEKFBEKFBEKFBEKFBEKFBEKFBEKFBEKFBEKFBEKFBEKFBEKFBEKFBEKFBEKFBEKFBEKFhLsekuYrz/OGmcXOOd9L8HxVmFmJoaZp2siy7OtoNKrX6/VCj6w84/mqOCst1P1+/xJFUXs8Hu+Gw+Gq6Hqer4pLpX70m5l1Oh3fZ6tanuex+Y8OjA1PpPRQfYWODowNz+VhQw0ZHRgbns/DhnrmOzoEjg1mFY0OgafQmFU48pR5gs7Dh+pD9Y5D6Ck0ZtWNPGWfoPOUoQrfcfA+hcas8pGn1BN0njLUs5A7DlbhiS4Bp9CYVXwSTVkn6Dx1qCECf6tWM7Ojx7r4eDw2fF7wrKJ9m/2HvV9DqO8ImXHzPG+kafq52+2+1mq1rMjaLMuiPM+/7Ha7H2ZW+F2pqn2bhe/9FkJ9R8iMO5/Pe7PZ7NN4PP7pubZ9OBzqxXb8R1X7vljvvfdbCPUKnxl3tVq1QteG+uh9X64vC3/mBwmECgmECgmECgmECgmECgmECgmECgmECgmECgmECgmECgmECgmECgmECgmECgmECgmECgmECgmECgmECgl3/Rfqer2Oil54u91GZmZpmkaLxaL9ketVX1t136Hr7+nrN1DoqpwtVYQ7AAAAAElFTkSuQmCC\"></img></td>\n",
       "      <td id=\"T_f6445_row14_col5\" class=\"data row14 col5\" >0<br>(0.0%)</td>\n",
       "    </tr>\n",
       "  </tbody>\n",
       "</table>\n"
      ],
      "text/plain": [
       "<pandas.io.formats.style.Styler at 0x26b1f037830>"
      ]
     },
     "execution_count": 13,
     "metadata": {},
     "output_type": "execute_result"
    }
   ],
   "source": [
    "dfSummary(df)"
   ]
  },
  {
   "cell_type": "markdown",
   "id": "cfd0a61b-00e6-484b-8bb2-71c21c9f7329",
   "metadata": {},
   "source": [
    "# EDA"
   ]
  },
  {
   "cell_type": "code",
   "execution_count": 26,
   "id": "e7a7a09b-74b0-4e1c-9d37-0db2690f4a87",
   "metadata": {},
   "outputs": [
    {
     "data": {
      "text/html": [
       "        <script type=\"text/javascript\">\n",
       "        window.PlotlyConfig = {MathJaxConfig: 'local'};\n",
       "        if (window.MathJax && window.MathJax.Hub && window.MathJax.Hub.Config) {window.MathJax.Hub.Config({SVG: {font: \"STIX-Web\"}});}\n",
       "        if (typeof require !== 'undefined') {\n",
       "        require.undef(\"plotly\");\n",
       "        requirejs.config({\n",
       "            paths: {\n",
       "                'plotly': ['https://cdn.plot.ly/plotly-2.35.2.min']\n",
       "            }\n",
       "        });\n",
       "        require(['plotly'], function(Plotly) {\n",
       "            window._Plotly = Plotly;\n",
       "        });\n",
       "        }\n",
       "        </script>\n",
       "        "
      ]
     },
     "metadata": {},
     "output_type": "display_data"
    }
   ],
   "source": [
    "# Visual Python: Visualization > Plotly\n",
    "import plotly.express as px\n",
    "from plotly.offline import init_notebook_mode\n",
    "init_notebook_mode(connected=True)"
   ]
  },
  {
   "cell_type": "code",
   "execution_count": 53,
   "id": "1eef771a-0321-41bf-8c7e-f4d18c4df4f5",
   "metadata": {},
   "outputs": [
    {
     "data": {
      "application/vnd.plotly.v1+json": {
       "config": {
        "plotlyServerURL": "https://plot.ly"
       },
       "data": [
        {
         "hovertemplate": "Alter in Jahre=%{x}<br>Sterbewahrscheinlichkeit [q(x)] männlich Ziffer=%{y}<extra></extra>",
         "legendgroup": "",
         "marker": {
          "color": "#636efa",
          "symbol": "circle"
         },
         "mode": "markers",
         "name": "",
         "orientation": "v",
         "showlegend": false,
         "type": "scatter",
         "x": [
          0,
          1,
          2,
          3,
          4,
          5,
          6,
          7,
          8,
          9,
          10,
          11,
          12,
          13,
          14,
          15,
          16,
          17,
          18,
          19,
          20,
          21,
          22,
          23,
          24,
          25,
          26,
          27,
          28,
          29,
          30,
          31,
          32,
          33,
          34,
          35,
          36,
          37,
          38,
          39,
          40,
          41,
          42,
          43,
          44,
          45,
          46,
          47,
          48,
          49,
          50,
          51,
          52,
          53,
          54,
          55,
          56,
          57,
          58,
          59,
          60,
          61,
          62,
          63,
          64,
          65,
          66,
          67,
          68,
          69,
          70,
          71,
          72,
          73,
          74,
          75,
          76,
          77,
          78,
          79,
          80,
          81,
          82,
          83,
          84,
          85,
          86,
          87,
          88,
          89,
          90,
          91,
          92,
          93,
          94,
          95,
          96,
          97,
          98,
          99,
          100
         ],
         "xaxis": "x",
         "y": [
          0.00325298,
          0.0002535,
          0.000181,
          0.00014128,
          0.00011836,
          0.00010452,
          9.552e-05,
          8.873e-05,
          8.303e-05,
          7.914e-05,
          7.787e-05,
          8.018e-05,
          8.755e-05,
          0.00010269,
          0.00012872,
          0.00016794,
          0.00022191,
          0.00028893,
          0.00036068,
          0.00042089,
          0.00045911,
          0.00047571,
          0.00047596,
          0.00046739,
          0.00045793,
          0.00045411,
          0.00045729,
          0.00046735,
          0.00048446,
          0.00050907,
          0.00054193,
          0.00058384,
          0.00063492,
          0.00069502,
          0.00076369,
          0.00083997,
          0.00092221,
          0.0010093,
          0.00110203,
          0.00120165,
          0.00130981,
          0.00142864,
          0.00156076,
          0.00170846,
          0.00187351,
          0.00205784,
          0.00226355,
          0.00249294,
          0.00274858,
          0.00303388,
          0.0033531,
          0.0037112,
          0.004114,
          0.00456835,
          0.00508175,
          0.00566051,
          0.00631056,
          0.00703774,
          0.00784754,
          0.00874483,
          0.00973313,
          0.01081356,
          0.01198472,
          0.01324216,
          0.01457783,
          0.01597984,
          0.01744392,
          0.01898028,
          0.0206044,
          0.02233709,
          0.02420523,
          0.02624195,
          0.0284767,
          0.03093664,
          0.0336531,
          0.0366625,
          0.04000711,
          0.04374051,
          0.04795266,
          0.05276521,
          0.05833063,
          0.06484059,
          0.07253679,
          0.08167546,
          0.09241132,
          0.10485809,
          0.11908998,
          0.1351199,
          0.15287782,
          0.17224612,
          0.19310484,
          0.21527181,
          0.23849636,
          0.26246448,
          0.28681714,
          0.31130731,
          0.3358256,
          0.36029654,
          0.38467353,
          0.40893627,
          0.43280007
         ],
         "yaxis": "y"
        }
       ],
       "layout": {
        "legend": {
         "tracegroupgap": 0
        },
        "template": {
         "data": {
          "bar": [
           {
            "error_x": {
             "color": "#2a3f5f"
            },
            "error_y": {
             "color": "#2a3f5f"
            },
            "marker": {
             "line": {
              "color": "#E5ECF6",
              "width": 0.5
             },
             "pattern": {
              "fillmode": "overlay",
              "size": 10,
              "solidity": 0.2
             }
            },
            "type": "bar"
           }
          ],
          "barpolar": [
           {
            "marker": {
             "line": {
              "color": "#E5ECF6",
              "width": 0.5
             },
             "pattern": {
              "fillmode": "overlay",
              "size": 10,
              "solidity": 0.2
             }
            },
            "type": "barpolar"
           }
          ],
          "carpet": [
           {
            "aaxis": {
             "endlinecolor": "#2a3f5f",
             "gridcolor": "white",
             "linecolor": "white",
             "minorgridcolor": "white",
             "startlinecolor": "#2a3f5f"
            },
            "baxis": {
             "endlinecolor": "#2a3f5f",
             "gridcolor": "white",
             "linecolor": "white",
             "minorgridcolor": "white",
             "startlinecolor": "#2a3f5f"
            },
            "type": "carpet"
           }
          ],
          "choropleth": [
           {
            "colorbar": {
             "outlinewidth": 0,
             "ticks": ""
            },
            "type": "choropleth"
           }
          ],
          "contour": [
           {
            "colorbar": {
             "outlinewidth": 0,
             "ticks": ""
            },
            "colorscale": [
             [
              0,
              "#0d0887"
             ],
             [
              0.1111111111111111,
              "#46039f"
             ],
             [
              0.2222222222222222,
              "#7201a8"
             ],
             [
              0.3333333333333333,
              "#9c179e"
             ],
             [
              0.4444444444444444,
              "#bd3786"
             ],
             [
              0.5555555555555556,
              "#d8576b"
             ],
             [
              0.6666666666666666,
              "#ed7953"
             ],
             [
              0.7777777777777778,
              "#fb9f3a"
             ],
             [
              0.8888888888888888,
              "#fdca26"
             ],
             [
              1,
              "#f0f921"
             ]
            ],
            "type": "contour"
           }
          ],
          "contourcarpet": [
           {
            "colorbar": {
             "outlinewidth": 0,
             "ticks": ""
            },
            "type": "contourcarpet"
           }
          ],
          "heatmap": [
           {
            "colorbar": {
             "outlinewidth": 0,
             "ticks": ""
            },
            "colorscale": [
             [
              0,
              "#0d0887"
             ],
             [
              0.1111111111111111,
              "#46039f"
             ],
             [
              0.2222222222222222,
              "#7201a8"
             ],
             [
              0.3333333333333333,
              "#9c179e"
             ],
             [
              0.4444444444444444,
              "#bd3786"
             ],
             [
              0.5555555555555556,
              "#d8576b"
             ],
             [
              0.6666666666666666,
              "#ed7953"
             ],
             [
              0.7777777777777778,
              "#fb9f3a"
             ],
             [
              0.8888888888888888,
              "#fdca26"
             ],
             [
              1,
              "#f0f921"
             ]
            ],
            "type": "heatmap"
           }
          ],
          "heatmapgl": [
           {
            "colorbar": {
             "outlinewidth": 0,
             "ticks": ""
            },
            "colorscale": [
             [
              0,
              "#0d0887"
             ],
             [
              0.1111111111111111,
              "#46039f"
             ],
             [
              0.2222222222222222,
              "#7201a8"
             ],
             [
              0.3333333333333333,
              "#9c179e"
             ],
             [
              0.4444444444444444,
              "#bd3786"
             ],
             [
              0.5555555555555556,
              "#d8576b"
             ],
             [
              0.6666666666666666,
              "#ed7953"
             ],
             [
              0.7777777777777778,
              "#fb9f3a"
             ],
             [
              0.8888888888888888,
              "#fdca26"
             ],
             [
              1,
              "#f0f921"
             ]
            ],
            "type": "heatmapgl"
           }
          ],
          "histogram": [
           {
            "marker": {
             "pattern": {
              "fillmode": "overlay",
              "size": 10,
              "solidity": 0.2
             }
            },
            "type": "histogram"
           }
          ],
          "histogram2d": [
           {
            "colorbar": {
             "outlinewidth": 0,
             "ticks": ""
            },
            "colorscale": [
             [
              0,
              "#0d0887"
             ],
             [
              0.1111111111111111,
              "#46039f"
             ],
             [
              0.2222222222222222,
              "#7201a8"
             ],
             [
              0.3333333333333333,
              "#9c179e"
             ],
             [
              0.4444444444444444,
              "#bd3786"
             ],
             [
              0.5555555555555556,
              "#d8576b"
             ],
             [
              0.6666666666666666,
              "#ed7953"
             ],
             [
              0.7777777777777778,
              "#fb9f3a"
             ],
             [
              0.8888888888888888,
              "#fdca26"
             ],
             [
              1,
              "#f0f921"
             ]
            ],
            "type": "histogram2d"
           }
          ],
          "histogram2dcontour": [
           {
            "colorbar": {
             "outlinewidth": 0,
             "ticks": ""
            },
            "colorscale": [
             [
              0,
              "#0d0887"
             ],
             [
              0.1111111111111111,
              "#46039f"
             ],
             [
              0.2222222222222222,
              "#7201a8"
             ],
             [
              0.3333333333333333,
              "#9c179e"
             ],
             [
              0.4444444444444444,
              "#bd3786"
             ],
             [
              0.5555555555555556,
              "#d8576b"
             ],
             [
              0.6666666666666666,
              "#ed7953"
             ],
             [
              0.7777777777777778,
              "#fb9f3a"
             ],
             [
              0.8888888888888888,
              "#fdca26"
             ],
             [
              1,
              "#f0f921"
             ]
            ],
            "type": "histogram2dcontour"
           }
          ],
          "mesh3d": [
           {
            "colorbar": {
             "outlinewidth": 0,
             "ticks": ""
            },
            "type": "mesh3d"
           }
          ],
          "parcoords": [
           {
            "line": {
             "colorbar": {
              "outlinewidth": 0,
              "ticks": ""
             }
            },
            "type": "parcoords"
           }
          ],
          "pie": [
           {
            "automargin": true,
            "type": "pie"
           }
          ],
          "scatter": [
           {
            "fillpattern": {
             "fillmode": "overlay",
             "size": 10,
             "solidity": 0.2
            },
            "type": "scatter"
           }
          ],
          "scatter3d": [
           {
            "line": {
             "colorbar": {
              "outlinewidth": 0,
              "ticks": ""
             }
            },
            "marker": {
             "colorbar": {
              "outlinewidth": 0,
              "ticks": ""
             }
            },
            "type": "scatter3d"
           }
          ],
          "scattercarpet": [
           {
            "marker": {
             "colorbar": {
              "outlinewidth": 0,
              "ticks": ""
             }
            },
            "type": "scattercarpet"
           }
          ],
          "scattergeo": [
           {
            "marker": {
             "colorbar": {
              "outlinewidth": 0,
              "ticks": ""
             }
            },
            "type": "scattergeo"
           }
          ],
          "scattergl": [
           {
            "marker": {
             "colorbar": {
              "outlinewidth": 0,
              "ticks": ""
             }
            },
            "type": "scattergl"
           }
          ],
          "scattermapbox": [
           {
            "marker": {
             "colorbar": {
              "outlinewidth": 0,
              "ticks": ""
             }
            },
            "type": "scattermapbox"
           }
          ],
          "scatterpolar": [
           {
            "marker": {
             "colorbar": {
              "outlinewidth": 0,
              "ticks": ""
             }
            },
            "type": "scatterpolar"
           }
          ],
          "scatterpolargl": [
           {
            "marker": {
             "colorbar": {
              "outlinewidth": 0,
              "ticks": ""
             }
            },
            "type": "scatterpolargl"
           }
          ],
          "scatterternary": [
           {
            "marker": {
             "colorbar": {
              "outlinewidth": 0,
              "ticks": ""
             }
            },
            "type": "scatterternary"
           }
          ],
          "surface": [
           {
            "colorbar": {
             "outlinewidth": 0,
             "ticks": ""
            },
            "colorscale": [
             [
              0,
              "#0d0887"
             ],
             [
              0.1111111111111111,
              "#46039f"
             ],
             [
              0.2222222222222222,
              "#7201a8"
             ],
             [
              0.3333333333333333,
              "#9c179e"
             ],
             [
              0.4444444444444444,
              "#bd3786"
             ],
             [
              0.5555555555555556,
              "#d8576b"
             ],
             [
              0.6666666666666666,
              "#ed7953"
             ],
             [
              0.7777777777777778,
              "#fb9f3a"
             ],
             [
              0.8888888888888888,
              "#fdca26"
             ],
             [
              1,
              "#f0f921"
             ]
            ],
            "type": "surface"
           }
          ],
          "table": [
           {
            "cells": {
             "fill": {
              "color": "#EBF0F8"
             },
             "line": {
              "color": "white"
             }
            },
            "header": {
             "fill": {
              "color": "#C8D4E3"
             },
             "line": {
              "color": "white"
             }
            },
            "type": "table"
           }
          ]
         },
         "layout": {
          "annotationdefaults": {
           "arrowcolor": "#2a3f5f",
           "arrowhead": 0,
           "arrowwidth": 1
          },
          "autotypenumbers": "strict",
          "coloraxis": {
           "colorbar": {
            "outlinewidth": 0,
            "ticks": ""
           }
          },
          "colorscale": {
           "diverging": [
            [
             0,
             "#8e0152"
            ],
            [
             0.1,
             "#c51b7d"
            ],
            [
             0.2,
             "#de77ae"
            ],
            [
             0.3,
             "#f1b6da"
            ],
            [
             0.4,
             "#fde0ef"
            ],
            [
             0.5,
             "#f7f7f7"
            ],
            [
             0.6,
             "#e6f5d0"
            ],
            [
             0.7,
             "#b8e186"
            ],
            [
             0.8,
             "#7fbc41"
            ],
            [
             0.9,
             "#4d9221"
            ],
            [
             1,
             "#276419"
            ]
           ],
           "sequential": [
            [
             0,
             "#0d0887"
            ],
            [
             0.1111111111111111,
             "#46039f"
            ],
            [
             0.2222222222222222,
             "#7201a8"
            ],
            [
             0.3333333333333333,
             "#9c179e"
            ],
            [
             0.4444444444444444,
             "#bd3786"
            ],
            [
             0.5555555555555556,
             "#d8576b"
            ],
            [
             0.6666666666666666,
             "#ed7953"
            ],
            [
             0.7777777777777778,
             "#fb9f3a"
            ],
            [
             0.8888888888888888,
             "#fdca26"
            ],
            [
             1,
             "#f0f921"
            ]
           ],
           "sequentialminus": [
            [
             0,
             "#0d0887"
            ],
            [
             0.1111111111111111,
             "#46039f"
            ],
            [
             0.2222222222222222,
             "#7201a8"
            ],
            [
             0.3333333333333333,
             "#9c179e"
            ],
            [
             0.4444444444444444,
             "#bd3786"
            ],
            [
             0.5555555555555556,
             "#d8576b"
            ],
            [
             0.6666666666666666,
             "#ed7953"
            ],
            [
             0.7777777777777778,
             "#fb9f3a"
            ],
            [
             0.8888888888888888,
             "#fdca26"
            ],
            [
             1,
             "#f0f921"
            ]
           ]
          },
          "colorway": [
           "#636efa",
           "#EF553B",
           "#00cc96",
           "#ab63fa",
           "#FFA15A",
           "#19d3f3",
           "#FF6692",
           "#B6E880",
           "#FF97FF",
           "#FECB52"
          ],
          "font": {
           "color": "#2a3f5f"
          },
          "geo": {
           "bgcolor": "white",
           "lakecolor": "white",
           "landcolor": "#E5ECF6",
           "showlakes": true,
           "showland": true,
           "subunitcolor": "white"
          },
          "hoverlabel": {
           "align": "left"
          },
          "hovermode": "closest",
          "mapbox": {
           "style": "light"
          },
          "paper_bgcolor": "white",
          "plot_bgcolor": "#E5ECF6",
          "polar": {
           "angularaxis": {
            "gridcolor": "white",
            "linecolor": "white",
            "ticks": ""
           },
           "bgcolor": "#E5ECF6",
           "radialaxis": {
            "gridcolor": "white",
            "linecolor": "white",
            "ticks": ""
           }
          },
          "scene": {
           "xaxis": {
            "backgroundcolor": "#E5ECF6",
            "gridcolor": "white",
            "gridwidth": 2,
            "linecolor": "white",
            "showbackground": true,
            "ticks": "",
            "zerolinecolor": "white"
           },
           "yaxis": {
            "backgroundcolor": "#E5ECF6",
            "gridcolor": "white",
            "gridwidth": 2,
            "linecolor": "white",
            "showbackground": true,
            "ticks": "",
            "zerolinecolor": "white"
           },
           "zaxis": {
            "backgroundcolor": "#E5ECF6",
            "gridcolor": "white",
            "gridwidth": 2,
            "linecolor": "white",
            "showbackground": true,
            "ticks": "",
            "zerolinecolor": "white"
           }
          },
          "shapedefaults": {
           "line": {
            "color": "#2a3f5f"
           }
          },
          "ternary": {
           "aaxis": {
            "gridcolor": "white",
            "linecolor": "white",
            "ticks": ""
           },
           "baxis": {
            "gridcolor": "white",
            "linecolor": "white",
            "ticks": ""
           },
           "bgcolor": "#E5ECF6",
           "caxis": {
            "gridcolor": "white",
            "linecolor": "white",
            "ticks": ""
           }
          },
          "title": {
           "x": 0.05
          },
          "xaxis": {
           "automargin": true,
           "gridcolor": "white",
           "linecolor": "white",
           "ticks": "",
           "title": {
            "standoff": 15
           },
           "zerolinecolor": "white",
           "zerolinewidth": 2
          },
          "yaxis": {
           "automargin": true,
           "gridcolor": "white",
           "linecolor": "white",
           "ticks": "",
           "title": {
            "standoff": 15
           },
           "zerolinecolor": "white",
           "zerolinewidth": 2
          }
         }
        },
        "title": {
         "text": "Sterbewahrscheinlichkeit männlich",
         "x": 0.5
        },
        "xaxis": {
         "anchor": "y",
         "domain": [
          0,
          1
         ],
         "title": {
          "text": "Alter in Jahre"
         }
        },
        "yaxis": {
         "anchor": "x",
         "domain": [
          0,
          1
         ],
         "title": {
          "text": "Sterbewahrscheinlichkeit [q(x)] männlich Ziffer"
         }
        }
       }
      },
      "image/png": "[encoded data removed]",
      "text/html": [
       "<div>                            <div id=\"df6bed7a-bbec-4043-a169-0206eaac4f98\" class=\"plotly-graph-div\" style=\"height:525px; width:100%;\"></div>            <script type=\"text/javascript\">                require([\"plotly\"], function(Plotly) {                    window.PLOTLYENV=window.PLOTLYENV || {};                                    if (document.getElementById(\"df6bed7a-bbec-4043-a169-0206eaac4f98\")) {                    Plotly.newPlot(                        \"df6bed7a-bbec-4043-a169-0206eaac4f98\",                        [{\"hovertemplate\":\"Alter in Jahre=%{x}\\u003cbr\\u003eSterbewahrscheinlichkeit [q(x)] m\\u00e4nnlich Ziffer=%{y}\\u003cextra\\u003e\\u003c\\u002fextra\\u003e\",\"legendgroup\":\"\",\"marker\":{\"color\":\"#636efa\",\"symbol\":\"circle\"},\"mode\":\"markers\",\"name\":\"\",\"orientation\":\"v\",\"showlegend\":false,\"x\":[0,1,2,3,4,5,6,7,8,9,10,11,12,13,14,15,16,17,18,19,20,21,22,23,24,25,26,27,28,29,30,31,32,33,34,35,36,37,38,39,40,41,42,43,44,45,46,47,48,49,50,51,52,53,54,55,56,57,58,59,60,61,62,63,64,65,66,67,68,69,70,71,72,73,74,75,76,77,78,79,80,81,82,83,84,85,86,87,88,89,90,91,92,93,94,95,96,97,98,99,100],\"xaxis\":\"x\",\"y\":[0.00325298,0.0002535,0.000181,0.00014128,0.00011836,0.00010452,9.552e-05,8.873e-05,8.303e-05,7.914e-05,7.787e-05,8.018e-05,8.755e-05,0.00010269,0.00012872,0.00016794,0.00022191,0.00028893,0.00036068,0.00042089,0.00045911,0.00047571,0.00047596,0.00046739,0.00045793,0.00045411,0.00045729,0.00046735,0.00048446,0.00050907,0.00054193,0.00058384,0.00063492,0.00069502,0.00076369,0.00083997,0.00092221,0.0010093,0.00110203,0.00120165,0.00130981,0.00142864,0.00156076,0.00170846,0.00187351,0.00205784,0.00226355,0.00249294,0.00274858,0.00303388,0.0033531,0.0037112,0.004114,0.00456835,0.00508175,0.00566051,0.00631056,0.00703774,0.00784754,0.00874483,0.00973313,0.01081356,0.01198472,0.01324216,0.01457783,0.01597984,0.01744392,0.01898028,0.0206044,0.02233709,0.02420523,0.02624195,0.0284767,0.03093664,0.0336531,0.0366625,0.04000711,0.04374051,0.04795266,0.05276521,0.05833063,0.06484059,0.07253679,0.08167546,0.09241132,0.10485809,0.11908998,0.1351199,0.15287782,0.17224612,0.19310484,0.21527181,0.23849636,0.26246448,0.28681714,0.31130731,0.3358256,0.36029654,0.38467353,0.40893627,0.43280007],\"yaxis\":\"y\",\"type\":\"scatter\"}],                        {\"template\":{\"data\":{\"histogram2dcontour\":[{\"type\":\"histogram2dcontour\",\"colorbar\":{\"outlinewidth\":0,\"ticks\":\"\"},\"colorscale\":[[0.0,\"#0d0887\"],[0.1111111111111111,\"#46039f\"],[0.2222222222222222,\"#7201a8\"],[0.3333333333333333,\"#9c179e\"],[0.4444444444444444,\"#bd3786\"],[0.5555555555555556,\"#d8576b\"],[0.6666666666666666,\"#ed7953\"],[0.7777777777777778,\"#fb9f3a\"],[0.8888888888888888,\"#fdca26\"],[1.0,\"#f0f921\"]]}],\"choropleth\":[{\"type\":\"choropleth\",\"colorbar\":{\"outlinewidth\":0,\"ticks\":\"\"}}],\"histogram2d\":[{\"type\":\"histogram2d\",\"colorbar\":{\"outlinewidth\":0,\"ticks\":\"\"},\"colorscale\":[[0.0,\"#0d0887\"],[0.1111111111111111,\"#46039f\"],[0.2222222222222222,\"#7201a8\"],[0.3333333333333333,\"#9c179e\"],[0.4444444444444444,\"#bd3786\"],[0.5555555555555556,\"#d8576b\"],[0.6666666666666666,\"#ed7953\"],[0.7777777777777778,\"#fb9f3a\"],[0.8888888888888888,\"#fdca26\"],[1.0,\"#f0f921\"]]}],\"heatmap\":[{\"type\":\"heatmap\",\"colorbar\":{\"outlinewidth\":0,\"ticks\":\"\"},\"colorscale\":[[0.0,\"#0d0887\"],[0.1111111111111111,\"#46039f\"],[0.2222222222222222,\"#7201a8\"],[0.3333333333333333,\"#9c179e\"],[0.4444444444444444,\"#bd3786\"],[0.5555555555555556,\"#d8576b\"],[0.6666666666666666,\"#ed7953\"],[0.7777777777777778,\"#fb9f3a\"],[0.8888888888888888,\"#fdca26\"],[1.0,\"#f0f921\"]]}],\"heatmapgl\":[{\"type\":\"heatmapgl\",\"colorbar\":{\"outlinewidth\":0,\"ticks\":\"\"},\"colorscale\":[[0.0,\"#0d0887\"],[0.1111111111111111,\"#46039f\"],[0.2222222222222222,\"#7201a8\"],[0.3333333333333333,\"#9c179e\"],[0.4444444444444444,\"#bd3786\"],[0.5555555555555556,\"#d8576b\"],[0.6666666666666666,\"#ed7953\"],[0.7777777777777778,\"#fb9f3a\"],[0.8888888888888888,\"#fdca26\"],[1.0,\"#f0f921\"]]}],\"contourcarpet\":[{\"type\":\"contourcarpet\",\"colorbar\":{\"outlinewidth\":0,\"ticks\":\"\"}}],\"contour\":[{\"type\":\"contour\",\"colorbar\":{\"outlinewidth\":0,\"ticks\":\"\"},\"colorscale\":[[0.0,\"#0d0887\"],[0.1111111111111111,\"#46039f\"],[0.2222222222222222,\"#7201a8\"],[0.3333333333333333,\"#9c179e\"],[0.4444444444444444,\"#bd3786\"],[0.5555555555555556,\"#d8576b\"],[0.6666666666666666,\"#ed7953\"],[0.7777777777777778,\"#fb9f3a\"],[0.8888888888888888,\"#fdca26\"],[1.0,\"#f0f921\"]]}],\"surface\":[{\"type\":\"surface\",\"colorbar\":{\"outlinewidth\":0,\"ticks\":\"\"},\"colorscale\":[[0.0,\"#0d0887\"],[0.1111111111111111,\"#46039f\"],[0.2222222222222222,\"#7201a8\"],[0.3333333333333333,\"#9c179e\"],[0.4444444444444444,\"#bd3786\"],[0.5555555555555556,\"#d8576b\"],[0.6666666666666666,\"#ed7953\"],[0.7777777777777778,\"#fb9f3a\"],[0.8888888888888888,\"#fdca26\"],[1.0,\"#f0f921\"]]}],\"mesh3d\":[{\"type\":\"mesh3d\",\"colorbar\":{\"outlinewidth\":0,\"ticks\":\"\"}}],\"scatter\":[{\"fillpattern\":{\"fillmode\":\"overlay\",\"size\":10,\"solidity\":0.2},\"type\":\"scatter\"}],\"parcoords\":[{\"type\":\"parcoords\",\"line\":{\"colorbar\":{\"outlinewidth\":0,\"ticks\":\"\"}}}],\"scatterpolargl\":[{\"type\":\"scatterpolargl\",\"marker\":{\"colorbar\":{\"outlinewidth\":0,\"ticks\":\"\"}}}],\"bar\":[{\"error_x\":{\"color\":\"#2a3f5f\"},\"error_y\":{\"color\":\"#2a3f5f\"},\"marker\":{\"line\":{\"color\":\"#E5ECF6\",\"width\":0.5},\"pattern\":{\"fillmode\":\"overlay\",\"size\":10,\"solidity\":0.2}},\"type\":\"bar\"}],\"scattergeo\":[{\"type\":\"scattergeo\",\"marker\":{\"colorbar\":{\"outlinewidth\":0,\"ticks\":\"\"}}}],\"scatterpolar\":[{\"type\":\"scatterpolar\",\"marker\":{\"colorbar\":{\"outlinewidth\":0,\"ticks\":\"\"}}}],\"histogram\":[{\"marker\":{\"pattern\":{\"fillmode\":\"overlay\",\"size\":10,\"solidity\":0.2}},\"type\":\"histogram\"}],\"scattergl\":[{\"type\":\"scattergl\",\"marker\":{\"colorbar\":{\"outlinewidth\":0,\"ticks\":\"\"}}}],\"scatter3d\":[{\"type\":\"scatter3d\",\"line\":{\"colorbar\":{\"outlinewidth\":0,\"ticks\":\"\"}},\"marker\":{\"colorbar\":{\"outlinewidth\":0,\"ticks\":\"\"}}}],\"scattermapbox\":[{\"type\":\"scattermapbox\",\"marker\":{\"colorbar\":{\"outlinewidth\":0,\"ticks\":\"\"}}}],\"scatterternary\":[{\"type\":\"scatterternary\",\"marker\":{\"colorbar\":{\"outlinewidth\":0,\"ticks\":\"\"}}}],\"scattercarpet\":[{\"type\":\"scattercarpet\",\"marker\":{\"colorbar\":{\"outlinewidth\":0,\"ticks\":\"\"}}}],\"carpet\":[{\"aaxis\":{\"endlinecolor\":\"#2a3f5f\",\"gridcolor\":\"white\",\"linecolor\":\"white\",\"minorgridcolor\":\"white\",\"startlinecolor\":\"#2a3f5f\"},\"baxis\":{\"endlinecolor\":\"#2a3f5f\",\"gridcolor\":\"white\",\"linecolor\":\"white\",\"minorgridcolor\":\"white\",\"startlinecolor\":\"#2a3f5f\"},\"type\":\"carpet\"}],\"table\":[{\"cells\":{\"fill\":{\"color\":\"#EBF0F8\"},\"line\":{\"color\":\"white\"}},\"header\":{\"fill\":{\"color\":\"#C8D4E3\"},\"line\":{\"color\":\"white\"}},\"type\":\"table\"}],\"barpolar\":[{\"marker\":{\"line\":{\"color\":\"#E5ECF6\",\"width\":0.5},\"pattern\":{\"fillmode\":\"overlay\",\"size\":10,\"solidity\":0.2}},\"type\":\"barpolar\"}],\"pie\":[{\"automargin\":true,\"type\":\"pie\"}]},\"layout\":{\"autotypenumbers\":\"strict\",\"colorway\":[\"#636efa\",\"#EF553B\",\"#00cc96\",\"#ab63fa\",\"#FFA15A\",\"#19d3f3\",\"#FF6692\",\"#B6E880\",\"#FF97FF\",\"#FECB52\"],\"font\":{\"color\":\"#2a3f5f\"},\"hovermode\":\"closest\",\"hoverlabel\":{\"align\":\"left\"},\"paper_bgcolor\":\"white\",\"plot_bgcolor\":\"#E5ECF6\",\"polar\":{\"bgcolor\":\"#E5ECF6\",\"angularaxis\":{\"gridcolor\":\"white\",\"linecolor\":\"white\",\"ticks\":\"\"},\"radialaxis\":{\"gridcolor\":\"white\",\"linecolor\":\"white\",\"ticks\":\"\"}},\"ternary\":{\"bgcolor\":\"#E5ECF6\",\"aaxis\":{\"gridcolor\":\"white\",\"linecolor\":\"white\",\"ticks\":\"\"},\"baxis\":{\"gridcolor\":\"white\",\"linecolor\":\"white\",\"ticks\":\"\"},\"caxis\":{\"gridcolor\":\"white\",\"linecolor\":\"white\",\"ticks\":\"\"}},\"coloraxis\":{\"colorbar\":{\"outlinewidth\":0,\"ticks\":\"\"}},\"colorscale\":{\"sequential\":[[0.0,\"#0d0887\"],[0.1111111111111111,\"#46039f\"],[0.2222222222222222,\"#7201a8\"],[0.3333333333333333,\"#9c179e\"],[0.4444444444444444,\"#bd3786\"],[0.5555555555555556,\"#d8576b\"],[0.6666666666666666,\"#ed7953\"],[0.7777777777777778,\"#fb9f3a\"],[0.8888888888888888,\"#fdca26\"],[1.0,\"#f0f921\"]],\"sequentialminus\":[[0.0,\"#0d0887\"],[0.1111111111111111,\"#46039f\"],[0.2222222222222222,\"#7201a8\"],[0.3333333333333333,\"#9c179e\"],[0.4444444444444444,\"#bd3786\"],[0.5555555555555556,\"#d8576b\"],[0.6666666666666666,\"#ed7953\"],[0.7777777777777778,\"#fb9f3a\"],[0.8888888888888888,\"#fdca26\"],[1.0,\"#f0f921\"]],\"diverging\":[[0,\"#8e0152\"],[0.1,\"#c51b7d\"],[0.2,\"#de77ae\"],[0.3,\"#f1b6da\"],[0.4,\"#fde0ef\"],[0.5,\"#f7f7f7\"],[0.6,\"#e6f5d0\"],[0.7,\"#b8e186\"],[0.8,\"#7fbc41\"],[0.9,\"#4d9221\"],[1,\"#276419\"]]},\"xaxis\":{\"gridcolor\":\"white\",\"linecolor\":\"white\",\"ticks\":\"\",\"title\":{\"standoff\":15},\"zerolinecolor\":\"white\",\"automargin\":true,\"zerolinewidth\":2},\"yaxis\":{\"gridcolor\":\"white\",\"linecolor\":\"white\",\"ticks\":\"\",\"title\":{\"standoff\":15},\"zerolinecolor\":\"white\",\"automargin\":true,\"zerolinewidth\":2},\"scene\":{\"xaxis\":{\"backgroundcolor\":\"#E5ECF6\",\"gridcolor\":\"white\",\"linecolor\":\"white\",\"showbackground\":true,\"ticks\":\"\",\"zerolinecolor\":\"white\",\"gridwidth\":2},\"yaxis\":{\"backgroundcolor\":\"#E5ECF6\",\"gridcolor\":\"white\",\"linecolor\":\"white\",\"showbackground\":true,\"ticks\":\"\",\"zerolinecolor\":\"white\",\"gridwidth\":2},\"zaxis\":{\"backgroundcolor\":\"#E5ECF6\",\"gridcolor\":\"white\",\"linecolor\":\"white\",\"showbackground\":true,\"ticks\":\"\",\"zerolinecolor\":\"white\",\"gridwidth\":2}},\"shapedefaults\":{\"line\":{\"color\":\"#2a3f5f\"}},\"annotationdefaults\":{\"arrowcolor\":\"#2a3f5f\",\"arrowhead\":0,\"arrowwidth\":1},\"geo\":{\"bgcolor\":\"white\",\"landcolor\":\"#E5ECF6\",\"subunitcolor\":\"white\",\"showland\":true,\"showlakes\":true,\"lakecolor\":\"white\"},\"title\":{\"x\":0.05},\"mapbox\":{\"style\":\"light\"}}},\"xaxis\":{\"anchor\":\"y\",\"domain\":[0.0,1.0],\"title\":{\"text\":\"Alter in Jahre\"}},\"yaxis\":{\"anchor\":\"x\",\"domain\":[0.0,1.0],\"title\":{\"text\":\"Sterbewahrscheinlichkeit [q(x)] m\\u00e4nnlich Ziffer\"}},\"legend\":{\"tracegroupgap\":0},\"title\":{\"text\":\"Sterbewahrscheinlichkeit m\\u00e4nnlich\",\"x\":0.5}},                        {\"responsive\": true}                    ).then(function(){\n",
       "                            \n",
       "var gd = document.getElementById('df6bed7a-bbec-4043-a169-0206eaac4f98');\n",
       "var x = new MutationObserver(function (mutations, observer) {{\n",
       "        var display = window.getComputedStyle(gd).display;\n",
       "        if (!display || display === 'none') {{\n",
       "            console.log([gd, 'removed!']);\n",
       "            Plotly.purge(gd);\n",
       "            observer.disconnect();\n",
       "        }}\n",
       "}});\n",
       "\n",
       "// Listen for the removal of the full notebook cells\n",
       "var notebookContainer = gd.closest('#notebook-container');\n",
       "if (notebookContainer) {{\n",
       "    x.observe(notebookContainer, {childList: true});\n",
       "}}\n",
       "\n",
       "// Listen for the clearing of the current output cell\n",
       "var outputEl = gd.closest('.output');\n",
       "if (outputEl) {{\n",
       "    x.observe(outputEl, {childList: true});\n",
       "}}\n",
       "\n",
       "                        })                };                });            </script>        </div>"
      ]
     },
     "metadata": {},
     "output_type": "display_data"
    }
   ],
   "source": [
    "# Visual Python: Visualization > Plotly\n",
    "fig = px.scatter(df, x='Alter in Jahre', y='Sterbewahrscheinlichkeit [q(x)] männlich Ziffer', title='Sterbewahrscheinlichkeit männlich')\n",
    "\n",
    "fig.update_layout(title_x=0.5)\n",
    "\n",
    "fig.show()"
   ]
  }
 ],
 "metadata": {
  "kernelspec": {
   "display_name": "Python 3 (ipykernel)",
   "language": "python",
   "name": "python3"
  },
  "language_info": {
   "codemirror_mode": {
    "name": "ipython",
    "version": 3
   },
   "file_extension": ".py",
   "mimetype": "text/x-python",
   "name": "python",
   "nbconvert_exporter": "python",
   "pygments_lexer": "ipython3",
   "version": "3.12.5"
  }
 },
 "nbformat": 4,
 "nbformat_minor": 5
}
